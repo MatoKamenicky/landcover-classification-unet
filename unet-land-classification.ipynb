{
 "cells": [
  {
   "cell_type": "code",
   "execution_count": 1,
   "id": "3b9e1572",
   "metadata": {
    "execution": {
     "iopub.execute_input": "2025-05-03T11:07:26.612454Z",
     "iopub.status.busy": "2025-05-03T11:07:26.612099Z",
     "iopub.status.idle": "2025-05-03T11:07:29.408631Z",
     "shell.execute_reply": "2025-05-03T11:07:29.407807Z"
    },
    "executionInfo": {
     "elapsed": 1929,
     "status": "ok",
     "timestamp": 1742910788038,
     "user": {
      "displayName": "Matej Kamenicky",
      "userId": "04927559039197615042"
     },
     "user_tz": -60
    },
    "id": "RiJ-2fLsrv8q",
    "papermill": {
     "duration": 2.809675,
     "end_time": "2025-05-03T11:07:29.410535",
     "exception": false,
     "start_time": "2025-05-03T11:07:26.600860",
     "status": "completed"
    },
    "tags": []
   },
   "outputs": [],
   "source": [
    "from PIL import Image\n",
    "import os\n",
    "import random\n",
    "import matplotlib.pyplot as plt\n",
    "import pandas as pd\n",
    "import seaborn as sns\n",
    "import numpy as np\n",
    "from tqdm import tqdm\n",
    "import multiprocessing\n",
    "import cv2"
   ]
  },
  {
   "cell_type": "code",
   "execution_count": 2,
   "id": "5fedf673",
   "metadata": {
    "execution": {
     "iopub.execute_input": "2025-05-03T11:07:29.429575Z",
     "iopub.status.busy": "2025-05-03T11:07:29.429108Z",
     "iopub.status.idle": "2025-05-03T11:07:29.433074Z",
     "shell.execute_reply": "2025-05-03T11:07:29.432256Z"
    },
    "papermill": {
     "duration": 0.014854,
     "end_time": "2025-05-03T11:07:29.434371",
     "exception": false,
     "start_time": "2025-05-03T11:07:29.419517",
     "status": "completed"
    },
    "tags": []
   },
   "outputs": [],
   "source": [
    "import warnings\n",
    "warnings.filterwarnings(\"ignore\")"
   ]
  },
  {
   "cell_type": "markdown",
   "id": "c9889a4b",
   "metadata": {
    "id": "P89cK-i8jOet",
    "papermill": {
     "duration": 0.008322,
     "end_time": "2025-05-03T11:07:29.451855",
     "exception": false,
     "start_time": "2025-05-03T11:07:29.443533",
     "status": "completed"
    },
    "tags": []
   },
   "source": [
    "# EDA"
   ]
  },
  {
   "cell_type": "markdown",
   "id": "30f666e1",
   "metadata": {
    "id": "ixlp84anletI",
    "papermill": {
     "duration": 0.008527,
     "end_time": "2025-05-03T11:07:29.469706",
     "exception": false,
     "start_time": "2025-05-03T11:07:29.461179",
     "status": "completed"
    },
    "tags": []
   },
   "source": [
    "Load class dictionary"
   ]
  },
  {
   "cell_type": "code",
   "execution_count": 3,
   "id": "3899d761",
   "metadata": {
    "execution": {
     "iopub.execute_input": "2025-05-03T11:07:29.488286Z",
     "iopub.status.busy": "2025-05-03T11:07:29.487963Z",
     "iopub.status.idle": "2025-05-03T11:07:29.491812Z",
     "shell.execute_reply": "2025-05-03T11:07:29.490869Z"
    },
    "papermill": {
     "duration": 0.015106,
     "end_time": "2025-05-03T11:07:29.493497",
     "exception": false,
     "start_time": "2025-05-03T11:07:29.478391",
     "status": "completed"
    },
    "tags": []
   },
   "outputs": [],
   "source": [
    "input_path = \"../input/deepglobe-land-cover-classification-dataset\""
   ]
  },
  {
   "cell_type": "code",
   "execution_count": 4,
   "id": "c6bd1427",
   "metadata": {
    "execution": {
     "iopub.execute_input": "2025-05-03T11:07:29.512249Z",
     "iopub.status.busy": "2025-05-03T11:07:29.511865Z",
     "iopub.status.idle": "2025-05-03T11:07:29.550188Z",
     "shell.execute_reply": "2025-05-03T11:07:29.549046Z"
    },
    "executionInfo": {
     "elapsed": 10,
     "status": "ok",
     "timestamp": 1742910788038,
     "user": {
      "displayName": "Matej Kamenicky",
      "userId": "04927559039197615042"
     },
     "user_tz": -60
    },
    "id": "NtmId0lglefC",
    "outputId": "e49b7e5e-83a2-4aab-ebe9-0a6b8ada6dfd",
    "papermill": {
     "duration": 0.049424,
     "end_time": "2025-05-03T11:07:29.551831",
     "exception": false,
     "start_time": "2025-05-03T11:07:29.502407",
     "status": "completed"
    },
    "tags": []
   },
   "outputs": [
    {
     "data": {
      "text/html": [
       "<div>\n",
       "<style scoped>\n",
       "    .dataframe tbody tr th:only-of-type {\n",
       "        vertical-align: middle;\n",
       "    }\n",
       "\n",
       "    .dataframe tbody tr th {\n",
       "        vertical-align: top;\n",
       "    }\n",
       "\n",
       "    .dataframe thead th {\n",
       "        text-align: right;\n",
       "    }\n",
       "</style>\n",
       "<table border=\"1\" class=\"dataframe\">\n",
       "  <thead>\n",
       "    <tr style=\"text-align: right;\">\n",
       "      <th></th>\n",
       "      <th>name</th>\n",
       "      <th>r</th>\n",
       "      <th>g</th>\n",
       "      <th>b</th>\n",
       "    </tr>\n",
       "  </thead>\n",
       "  <tbody>\n",
       "    <tr>\n",
       "      <th>0</th>\n",
       "      <td>urban_land</td>\n",
       "      <td>0</td>\n",
       "      <td>255</td>\n",
       "      <td>255</td>\n",
       "    </tr>\n",
       "    <tr>\n",
       "      <th>1</th>\n",
       "      <td>agriculture_land</td>\n",
       "      <td>255</td>\n",
       "      <td>255</td>\n",
       "      <td>0</td>\n",
       "    </tr>\n",
       "    <tr>\n",
       "      <th>2</th>\n",
       "      <td>rangeland</td>\n",
       "      <td>255</td>\n",
       "      <td>0</td>\n",
       "      <td>255</td>\n",
       "    </tr>\n",
       "    <tr>\n",
       "      <th>3</th>\n",
       "      <td>forest_land</td>\n",
       "      <td>0</td>\n",
       "      <td>255</td>\n",
       "      <td>0</td>\n",
       "    </tr>\n",
       "    <tr>\n",
       "      <th>4</th>\n",
       "      <td>water</td>\n",
       "      <td>0</td>\n",
       "      <td>0</td>\n",
       "      <td>255</td>\n",
       "    </tr>\n",
       "    <tr>\n",
       "      <th>5</th>\n",
       "      <td>barren_land</td>\n",
       "      <td>255</td>\n",
       "      <td>255</td>\n",
       "      <td>255</td>\n",
       "    </tr>\n",
       "    <tr>\n",
       "      <th>6</th>\n",
       "      <td>unknown</td>\n",
       "      <td>0</td>\n",
       "      <td>0</td>\n",
       "      <td>0</td>\n",
       "    </tr>\n",
       "  </tbody>\n",
       "</table>\n",
       "</div>"
      ],
      "text/plain": [
       "               name    r    g    b\n",
       "0        urban_land    0  255  255\n",
       "1  agriculture_land  255  255    0\n",
       "2         rangeland  255    0  255\n",
       "3       forest_land    0  255    0\n",
       "4             water    0    0  255\n",
       "5       barren_land  255  255  255\n",
       "6           unknown    0    0    0"
      ]
     },
     "execution_count": 4,
     "metadata": {},
     "output_type": "execute_result"
    }
   ],
   "source": [
    "df = pd.read_csv(os.path.join(input_path, 'class_dict.csv'))\n",
    "df"
   ]
  },
  {
   "cell_type": "markdown",
   "id": "f76cedce",
   "metadata": {
    "id": "ynkYy4eTPm_h",
    "papermill": {
     "duration": 0.008665,
     "end_time": "2025-05-03T11:07:29.571436",
     "exception": false,
     "start_time": "2025-05-03T11:07:29.562771",
     "status": "completed"
    },
    "tags": []
   },
   "source": [
    "Number of images and masks in train dataset"
   ]
  },
  {
   "cell_type": "code",
   "execution_count": 5,
   "id": "e339a54c",
   "metadata": {
    "execution": {
     "iopub.execute_input": "2025-05-03T11:07:29.591084Z",
     "iopub.status.busy": "2025-05-03T11:07:29.590687Z",
     "iopub.status.idle": "2025-05-03T11:07:29.616523Z",
     "shell.execute_reply": "2025-05-03T11:07:29.615279Z"
    },
    "executionInfo": {
     "elapsed": 7,
     "status": "ok",
     "timestamp": 1742910788038,
     "user": {
      "displayName": "Matej Kamenicky",
      "userId": "04927559039197615042"
     },
     "user_tz": -60
    },
    "id": "CQolWwih_fQL",
    "outputId": "f9c334a0-f1a6-4bf1-a24a-a34df6e6f2ee",
    "papermill": {
     "duration": 0.03774,
     "end_time": "2025-05-03T11:07:29.618168",
     "exception": false,
     "start_time": "2025-05-03T11:07:29.580428",
     "status": "completed"
    },
    "tags": []
   },
   "outputs": [
    {
     "name": "stdout",
     "output_type": "stream",
     "text": [
      "Total Images: 803\n",
      "Total Masks: 803\n"
     ]
    }
   ],
   "source": [
    "train_path = os.path.join(input_path, 'train')\n",
    "\n",
    "train_images = [f for f in os.listdir(train_path) if f.endswith(\"_sat.jpg\")]\n",
    "train_masks = [f for f in os.listdir(train_path) if f.endswith(\"_mask.png\")]\n",
    "\n",
    "print(f\"Total Images: {len(train_images)}\")\n",
    "print(f\"Total Masks: {len(train_masks)}\")"
   ]
  },
  {
   "cell_type": "markdown",
   "id": "0375cce0",
   "metadata": {
    "id": "kb1c2CNWPtg-",
    "papermill": {
     "duration": 0.008559,
     "end_time": "2025-05-03T11:07:29.635731",
     "exception": false,
     "start_time": "2025-05-03T11:07:29.627172",
     "status": "completed"
    },
    "tags": []
   },
   "source": [
    "Number of images and masks in validation dataset"
   ]
  },
  {
   "cell_type": "code",
   "execution_count": 6,
   "id": "bc456c59",
   "metadata": {
    "execution": {
     "iopub.execute_input": "2025-05-03T11:07:29.654452Z",
     "iopub.status.busy": "2025-05-03T11:07:29.654100Z",
     "iopub.status.idle": "2025-05-03T11:07:29.666391Z",
     "shell.execute_reply": "2025-05-03T11:07:29.665276Z"
    },
    "executionInfo": {
     "elapsed": 5,
     "status": "ok",
     "timestamp": 1742910788038,
     "user": {
      "displayName": "Matej Kamenicky",
      "userId": "04927559039197615042"
     },
     "user_tz": -60
    },
    "id": "B14ZXLanPJgR",
    "outputId": "7f67eaf3-ffa6-4c9f-e3ea-c85a5b91c1c3",
    "papermill": {
     "duration": 0.023477,
     "end_time": "2025-05-03T11:07:29.667845",
     "exception": false,
     "start_time": "2025-05-03T11:07:29.644368",
     "status": "completed"
    },
    "tags": []
   },
   "outputs": [
    {
     "name": "stdout",
     "output_type": "stream",
     "text": [
      "Total Images: 171\n",
      "Total Masks: 0\n"
     ]
    }
   ],
   "source": [
    "valid_path = os.path.join(input_path, 'valid')\n",
    "\n",
    "valid_images = [f for f in os.listdir(valid_path) if f.endswith(\"_sat.jpg\")]\n",
    "valid_masks = [f for f in os.listdir(valid_path) if f.endswith(\"_mask.png\")]\n",
    "\n",
    "print(f\"Total Images: {len(valid_images)}\")\n",
    "print(f\"Total Masks: {len(valid_masks)}\")"
   ]
  },
  {
   "cell_type": "markdown",
   "id": "28e85ecb",
   "metadata": {
    "id": "0ZwSknIWZKxX",
    "papermill": {
     "duration": 0.008676,
     "end_time": "2025-05-03T11:07:29.685808",
     "exception": false,
     "start_time": "2025-05-03T11:07:29.677132",
     "status": "completed"
    },
    "tags": []
   },
   "source": [
    "Visualize an image and mask"
   ]
  },
  {
   "cell_type": "code",
   "execution_count": 7,
   "id": "c9958b96",
   "metadata": {
    "execution": {
     "iopub.execute_input": "2025-05-03T11:07:29.705025Z",
     "iopub.status.busy": "2025-05-03T11:07:29.704565Z",
     "iopub.status.idle": "2025-05-03T11:07:32.736331Z",
     "shell.execute_reply": "2025-05-03T11:07:32.735042Z"
    },
    "executionInfo": {
     "elapsed": 2267,
     "status": "ok",
     "timestamp": 1742910790301,
     "user": {
      "displayName": "Matej Kamenicky",
      "userId": "04927559039197615042"
     },
     "user_tz": -60
    },
    "id": "kYfpddHKPk64",
    "outputId": "b635708c-aef5-4383-c841-51cf0b9750e7",
    "papermill": {
     "duration": 3.046088,
     "end_time": "2025-05-03T11:07:32.740916",
     "exception": false,
     "start_time": "2025-05-03T11:07:29.694828",
     "status": "completed"
    },
    "tags": []
   },
   "outputs": [
    {
     "data": {
      "image/png": "[encoded data removed]",
      "text/plain": [
       "<Figure size 1000x500 with 3 Axes>"
      ]
     },
     "metadata": {},
     "output_type": "display_data"
    }
   ],
   "source": [
    "image_name = random.choice(train_images)\n",
    "base_name = image_name.split(\"_\")[0]\n",
    "image_path = f\"{train_path}/{base_name}_sat.jpg\"\n",
    "mask_path = f\"{train_path}/{base_name}_mask.png\"\n",
    "\n",
    "\n",
    "image = Image.open(image_path)\n",
    "mask = Image.open(mask_path)\n",
    "\n",
    "fig, ax = plt.subplots(1, 3, figsize=(10, 5))\n",
    "\n",
    "ax[0].imshow(image)\n",
    "ax[0].set_title(f\"Satellite Image {base_name}_sat.jpg\")\n",
    "ax[0].axis(\"off\")\n",
    "\n",
    "ax[1].imshow(mask)\n",
    "ax[1].set_title(f\"Segmentation Mask {base_name}\")\n",
    "ax[1].axis(\"off\")\n",
    "\n",
    "plt.imshow(image)\n",
    "plt.imshow(mask, alpha=0.4)\n",
    "plt.title(\"Image & Mask Overlay\")\n",
    "plt.axis(\"off\")\n",
    "\n",
    "plt.show()"
   ]
  },
  {
   "cell_type": "markdown",
   "id": "eca11911",
   "metadata": {
    "id": "b7qGtWJodTAc",
    "papermill": {
     "duration": 0.013253,
     "end_time": "2025-05-03T11:07:32.767226",
     "exception": false,
     "start_time": "2025-05-03T11:07:32.753973",
     "status": "completed"
    },
    "tags": []
   },
   "source": [
    "Image and mask size"
   ]
  },
  {
   "cell_type": "code",
   "execution_count": 8,
   "id": "c5c02701",
   "metadata": {
    "execution": {
     "iopub.execute_input": "2025-05-03T11:07:32.795287Z",
     "iopub.status.busy": "2025-05-03T11:07:32.794888Z",
     "iopub.status.idle": "2025-05-03T11:07:47.777854Z",
     "shell.execute_reply": "2025-05-03T11:07:47.776270Z"
    },
    "executionInfo": {
     "elapsed": 379,
     "status": "ok",
     "timestamp": 1742910790674,
     "user": {
      "displayName": "Matej Kamenicky",
      "userId": "04927559039197615042"
     },
     "user_tz": -60
    },
    "id": "bKG5zJ7bZfpd",
    "outputId": "501936cb-348b-4a10-9804-3d48a4cd4b08",
    "papermill": {
     "duration": 14.998917,
     "end_time": "2025-05-03T11:07:47.779602",
     "exception": false,
     "start_time": "2025-05-03T11:07:32.780685",
     "status": "completed"
    },
    "tags": []
   },
   "outputs": [
    {
     "name": "stdout",
     "output_type": "stream",
     "text": [
      "Unique Image Sizes: 1\n",
      "Unique Mask Sizes: 1\n",
      "---------------------------\n",
      "Image Size: (2448, 2448)\n",
      "Mask Size: (2448, 2448)\n"
     ]
    }
   ],
   "source": [
    "img_size = []\n",
    "mask_size = []\n",
    "\n",
    "for img_name,mask_name in zip(train_images, train_masks):\n",
    "  image = Image.open(f\"{train_path}/{img_name}\")\n",
    "  mask = Image.open(f\"{train_path}/{mask_name}\")\n",
    "\n",
    "  img_size.append(image.size)\n",
    "  mask_size.append(mask.size)\n",
    "\n",
    "print(f\"Unique Image Sizes: {len(set(img_size))}\")\n",
    "print(f\"Unique Mask Sizes: {len(set(mask_size))}\")\n",
    "print(\"---------------------------\")\n",
    "\n",
    "if len(set(img_size)) == 1 and len(set(mask_size)) == 1:\n",
    "  print(f\"Image Size: {img_size[0]}\")\n",
    "  print(f\"Mask Size: {mask_size[0]}\")\n",
    "else:\n",
    "  print(f\"Image Size: {set(img_size)}\")\n",
    "  print(f\"Mask Size: {set(mask_size)}\")"
   ]
  },
  {
   "cell_type": "markdown",
   "id": "44db439d",
   "metadata": {
    "id": "XBOSCqGxTs1O",
    "papermill": {
     "duration": 0.013757,
     "end_time": "2025-05-03T11:07:47.806548",
     "exception": false,
     "start_time": "2025-05-03T11:07:47.792791",
     "status": "completed"
    },
    "tags": []
   },
   "source": [
    "Check number of channels"
   ]
  },
  {
   "cell_type": "code",
   "execution_count": 9,
   "id": "40421633",
   "metadata": {
    "execution": {
     "iopub.execute_input": "2025-05-03T11:07:47.835306Z",
     "iopub.status.busy": "2025-05-03T11:07:47.834975Z",
     "iopub.status.idle": "2025-05-03T11:07:49.296315Z",
     "shell.execute_reply": "2025-05-03T11:07:49.295270Z"
    },
    "executionInfo": {
     "elapsed": 3,
     "status": "ok",
     "timestamp": 1742910790674,
     "user": {
      "displayName": "Matej Kamenicky",
      "userId": "04927559039197615042"
     },
     "user_tz": -60
    },
    "id": "H0MuT5pEZf8v",
    "outputId": "70c5e2de-383a-469c-b529-bf638de6c0da",
    "papermill": {
     "duration": 1.477578,
     "end_time": "2025-05-03T11:07:49.297976",
     "exception": false,
     "start_time": "2025-05-03T11:07:47.820398",
     "status": "completed"
    },
    "tags": []
   },
   "outputs": [
    {
     "name": "stdout",
     "output_type": "stream",
     "text": [
      "Number of RGB images: 803\n",
      "Number of other images: 0\n"
     ]
    }
   ],
   "source": [
    "num_channels = []\n",
    "\n",
    "for img_name in train_images:\n",
    "  image = Image.open(f\"{train_path}/{img_name}\")\n",
    "\n",
    "  if image.mode != \"RGB\":\n",
    "    num_channels.append(image)\n",
    "\n",
    "print(f\"Number of RGB images: {len(train_images) - len(num_channels)}\")\n",
    "print(f\"Number of other images: {len(num_channels)}\")"
   ]
  },
  {
   "cell_type": "code",
   "execution_count": 10,
   "id": "787614cd",
   "metadata": {
    "execution": {
     "iopub.execute_input": "2025-05-03T11:07:49.326610Z",
     "iopub.status.busy": "2025-05-03T11:07:49.326291Z",
     "iopub.status.idle": "2025-05-03T11:07:49.870140Z",
     "shell.execute_reply": "2025-05-03T11:07:49.868799Z"
    },
    "executionInfo": {
     "elapsed": 280,
     "status": "ok",
     "timestamp": 1742910790952,
     "user": {
      "displayName": "Matej Kamenicky",
      "userId": "04927559039197615042"
     },
     "user_tz": -60
    },
    "id": "aRaSD2IJWedO",
    "outputId": "3e682dd1-4857-466e-b196-8084476b6097",
    "papermill": {
     "duration": 0.56004,
     "end_time": "2025-05-03T11:07:49.871792",
     "exception": false,
     "start_time": "2025-05-03T11:07:49.311752",
     "status": "completed"
    },
    "tags": []
   },
   "outputs": [
    {
     "name": "stdout",
     "output_type": "stream",
     "text": [
      "Image Shape: (2448, 2448, 3)\n",
      "Mask Shape: (2448, 2448, 3)\n",
      "[  0 255]\n"
     ]
    }
   ],
   "source": [
    "image_np = np.array(image)\n",
    "mask_np = np.array(mask)\n",
    "\n",
    "print(f\"Image Shape: {image_np.shape}\")\n",
    "print(f\"Mask Shape: {mask_np.shape}\")\n",
    "print(np.unique(np.array(mask)))"
   ]
  },
  {
   "cell_type": "markdown",
   "id": "61f90a67",
   "metadata": {
    "id": "yV1wvz-mb1GQ",
    "papermill": {
     "duration": 0.013795,
     "end_time": "2025-05-03T11:07:49.900765",
     "exception": false,
     "start_time": "2025-05-03T11:07:49.886970",
     "status": "completed"
    },
    "tags": []
   },
   "source": [
    "# Data preprocessing"
   ]
  },
  {
   "cell_type": "code",
   "execution_count": 11,
   "id": "cd3e7b7a",
   "metadata": {
    "execution": {
     "iopub.execute_input": "2025-05-03T11:07:49.930504Z",
     "iopub.status.busy": "2025-05-03T11:07:49.930180Z",
     "iopub.status.idle": "2025-05-03T11:07:58.918859Z",
     "shell.execute_reply": "2025-05-03T11:07:58.918068Z"
    },
    "executionInfo": {
     "elapsed": 10951,
     "status": "ok",
     "timestamp": 1742910807158,
     "user": {
      "displayName": "Matej Kamenicky",
      "userId": "04927559039197615042"
     },
     "user_tz": -60
    },
    "id": "jXb81flZggPc",
    "papermill": {
     "duration": 9.005557,
     "end_time": "2025-05-03T11:07:58.920632",
     "exception": false,
     "start_time": "2025-05-03T11:07:49.915075",
     "status": "completed"
    },
    "tags": []
   },
   "outputs": [],
   "source": [
    "import torch\n",
    "import torchvision.transforms as transforms\n",
    "from torch.utils.data import DataLoader, Dataset\n",
    "from sklearn.model_selection import train_test_split\n",
    "import glob"
   ]
  },
  {
   "cell_type": "markdown",
   "id": "4b21beda",
   "metadata": {
    "id": "1QTBxQ_ph_9X",
    "papermill": {
     "duration": 0.015101,
     "end_time": "2025-05-03T11:07:58.954262",
     "exception": false,
     "start_time": "2025-05-03T11:07:58.939161",
     "status": "completed"
    },
    "tags": []
   },
   "source": [
    "Model parameters"
   ]
  },
  {
   "cell_type": "code",
   "execution_count": 12,
   "id": "028283a2",
   "metadata": {
    "execution": {
     "iopub.execute_input": "2025-05-03T11:07:58.983429Z",
     "iopub.status.busy": "2025-05-03T11:07:58.982801Z",
     "iopub.status.idle": "2025-05-03T11:07:58.987564Z",
     "shell.execute_reply": "2025-05-03T11:07:58.986646Z"
    },
    "executionInfo": {
     "elapsed": 4,
     "status": "ok",
     "timestamp": 1742910807158,
     "user": {
      "displayName": "Matej Kamenicky",
      "userId": "04927559039197615042"
     },
     "user_tz": -60
    },
    "id": "fs_1UVcGh_gv",
    "papermill": {
     "duration": 0.021228,
     "end_time": "2025-05-03T11:07:58.989236",
     "exception": false,
     "start_time": "2025-05-03T11:07:58.968008",
     "status": "completed"
    },
    "tags": []
   },
   "outputs": [],
   "source": [
    "class Parameters():\n",
    "  lr = 0.001\n",
    "  batch_size_train = 8\n",
    "  batch_size_val = 16\n",
    "  epochs = 100\n",
    "  in_channels = 3\n",
    "  num_classes = 7\n",
    "\n",
    "params = Parameters()"
   ]
  },
  {
   "cell_type": "markdown",
   "id": "05b071ac",
   "metadata": {
    "id": "2cqRHsFgSA1h",
    "papermill": {
     "duration": 0.01319,
     "end_time": "2025-05-03T11:07:59.016374",
     "exception": false,
     "start_time": "2025-05-03T11:07:59.003184",
     "status": "completed"
    },
    "tags": []
   },
   "source": [
    "Resize and normalize images, convert mask RGB values to categorical values, convert to PyTorch tensors"
   ]
  },
  {
   "cell_type": "code",
   "execution_count": 13,
   "id": "bd61e934",
   "metadata": {
    "execution": {
     "iopub.execute_input": "2025-05-03T11:07:59.045028Z",
     "iopub.status.busy": "2025-05-03T11:07:59.044656Z",
     "iopub.status.idle": "2025-05-03T11:07:59.052271Z",
     "shell.execute_reply": "2025-05-03T11:07:59.051351Z"
    },
    "executionInfo": {
     "elapsed": 3,
     "status": "ok",
     "timestamp": 1742910807158,
     "user": {
      "displayName": "Matej Kamenicky",
      "userId": "04927559039197615042"
     },
     "user_tz": -60
    },
    "id": "qjcC-H0jSAGo",
    "papermill": {
     "duration": 0.023553,
     "end_time": "2025-05-03T11:07:59.053771",
     "exception": false,
     "start_time": "2025-05-03T11:07:59.030218",
     "status": "completed"
    },
    "tags": []
   },
   "outputs": [],
   "source": [
    "def rgb_to_categorical(mask):\n",
    "    mask_np = np.array(mask)\n",
    "    category_mask = np.zeros(mask_np.shape[:2], dtype=np.int8)\n",
    "    for i, row in df.iterrows():\n",
    "        category_mask += (np.all(mask_np.reshape((-1, 3)) == (row['r'], row['g'], row['b']), axis=1).reshape(mask_np.shape[:2]) * i)\n",
    "    return category_mask\n",
    "\n",
    "transform_image = transforms.Compose([\n",
    "    transforms.Resize((256, 256)),\n",
    "    transforms.ToTensor(),\n",
    "    transforms.Normalize([0.485, 0.456, 0.406], [0.229, 0.224, 0.225]) # values from imagenet\n",
    "])\n",
    "\n",
    "transform_mask = transforms.Compose([\n",
    "    transforms.Resize((256, 256)),\n",
    "    transforms.Lambda(lambda mask: rgb_to_categorical(mask)),\n",
    "    transforms.ToTensor()\n",
    "])"
   ]
  },
  {
   "cell_type": "markdown",
   "id": "a63fef7a",
   "metadata": {
    "id": "qd_7R5As625W",
    "papermill": {
     "duration": 0.014099,
     "end_time": "2025-05-03T11:07:59.082157",
     "exception": false,
     "start_time": "2025-05-03T11:07:59.068058",
     "status": "completed"
    },
    "tags": []
   },
   "source": [
    "Create Dataset"
   ]
  },
  {
   "cell_type": "code",
   "execution_count": 14,
   "id": "99705ede",
   "metadata": {
    "execution": {
     "iopub.execute_input": "2025-05-03T11:07:59.111572Z",
     "iopub.status.busy": "2025-05-03T11:07:59.111223Z",
     "iopub.status.idle": "2025-05-03T11:07:59.117235Z",
     "shell.execute_reply": "2025-05-03T11:07:59.116177Z"
    },
    "executionInfo": {
     "elapsed": 3,
     "status": "ok",
     "timestamp": 1742910807158,
     "user": {
      "displayName": "Matej Kamenicky",
      "userId": "04927559039197615042"
     },
     "user_tz": -60
    },
    "id": "k2YdMDWx7bUZ",
    "papermill": {
     "duration": 0.022542,
     "end_time": "2025-05-03T11:07:59.118880",
     "exception": false,
     "start_time": "2025-05-03T11:07:59.096338",
     "status": "completed"
    },
    "tags": []
   },
   "outputs": [],
   "source": [
    "class LandCoverDataset(Dataset):\n",
    "  def __init__(self, image_path, mask_path, transform_image=None, transform_mask=None):\n",
    "    self.image_path = image_path\n",
    "    self.mask_path = mask_path\n",
    "    self.transform_image = transform_image\n",
    "    self.transform_mask = transform_mask\n",
    "\n",
    "  def __len__(self):\n",
    "    return len(self.image_path)\n",
    "\n",
    "  def __getitem__(self, index):\n",
    "    image = Image.open(self.image_path[index])\n",
    "    mask = Image.open(self.mask_path[index])\n",
    "\n",
    "    if self.transform_image:\n",
    "      image = self.transform_image(image)\n",
    "    if self.transform_mask:\n",
    "      mask = self.transform_mask(mask)\n",
    "\n",
    "    return image, mask"
   ]
  },
  {
   "cell_type": "markdown",
   "id": "dcf2439e",
   "metadata": {
    "id": "i5JyvbsTOFqv",
    "papermill": {
     "duration": 0.013297,
     "end_time": "2025-05-03T11:07:59.145836",
     "exception": false,
     "start_time": "2025-05-03T11:07:59.132539",
     "status": "completed"
    },
    "tags": []
   },
   "source": [
    "Split dataset"
   ]
  },
  {
   "cell_type": "code",
   "execution_count": 15,
   "id": "8fe63700",
   "metadata": {
    "execution": {
     "iopub.execute_input": "2025-05-03T11:07:59.175038Z",
     "iopub.status.busy": "2025-05-03T11:07:59.174601Z",
     "iopub.status.idle": "2025-05-03T11:07:59.186250Z",
     "shell.execute_reply": "2025-05-03T11:07:59.185213Z"
    },
    "papermill": {
     "duration": 0.028299,
     "end_time": "2025-05-03T11:07:59.188024",
     "exception": false,
     "start_time": "2025-05-03T11:07:59.159725",
     "status": "completed"
    },
    "tags": []
   },
   "outputs": [],
   "source": [
    "image_paths = sorted(glob.glob(os.path.join(train_path, \"*_sat.jpg\")))\n",
    "mask_paths = sorted(glob.glob(os.path.join(train_path, \"*_mask.png\")))"
   ]
  },
  {
   "cell_type": "code",
   "execution_count": 16,
   "id": "7b41d243",
   "metadata": {
    "execution": {
     "iopub.execute_input": "2025-05-03T11:07:59.217295Z",
     "iopub.status.busy": "2025-05-03T11:07:59.216912Z",
     "iopub.status.idle": "2025-05-03T11:07:59.222315Z",
     "shell.execute_reply": "2025-05-03T11:07:59.221444Z"
    },
    "executionInfo": {
     "elapsed": 3,
     "status": "ok",
     "timestamp": 1742910807158,
     "user": {
      "displayName": "Matej Kamenicky",
      "userId": "04927559039197615042"
     },
     "user_tz": -60
    },
    "id": "MhthJHVMOFgt",
    "papermill": {
     "duration": 0.021676,
     "end_time": "2025-05-03T11:07:59.223812",
     "exception": false,
     "start_time": "2025-05-03T11:07:59.202136",
     "status": "completed"
    },
    "tags": []
   },
   "outputs": [],
   "source": [
    "train_images, val_images, train_masks, val_masks = train_test_split(image_paths, mask_paths, test_size=0.2, random_state=42)"
   ]
  },
  {
   "cell_type": "markdown",
   "id": "5e5d5cfb",
   "metadata": {
    "id": "BtOqWcuxhq3f",
    "papermill": {
     "duration": 0.014117,
     "end_time": "2025-05-03T11:07:59.252133",
     "exception": false,
     "start_time": "2025-05-03T11:07:59.238016",
     "status": "completed"
    },
    "tags": []
   },
   "source": [
    "Create datasets"
   ]
  },
  {
   "cell_type": "code",
   "execution_count": 17,
   "id": "a61794d5",
   "metadata": {
    "execution": {
     "iopub.execute_input": "2025-05-03T11:07:59.281709Z",
     "iopub.status.busy": "2025-05-03T11:07:59.281392Z",
     "iopub.status.idle": "2025-05-03T11:07:59.285271Z",
     "shell.execute_reply": "2025-05-03T11:07:59.284458Z"
    },
    "executionInfo": {
     "elapsed": 229,
     "status": "ok",
     "timestamp": 1742910812022,
     "user": {
      "displayName": "Matej Kamenicky",
      "userId": "04927559039197615042"
     },
     "user_tz": -60
    },
    "id": "b7LA9Z_A-DVf",
    "papermill": {
     "duration": 0.020311,
     "end_time": "2025-05-03T11:07:59.286642",
     "exception": false,
     "start_time": "2025-05-03T11:07:59.266331",
     "status": "completed"
    },
    "tags": []
   },
   "outputs": [],
   "source": [
    "train_dataset = LandCoverDataset(train_images, train_masks, transform_image, transform_mask)\n",
    "val_dataset = LandCoverDataset(val_images, val_masks, transform_image, transform_mask)"
   ]
  },
  {
   "cell_type": "markdown",
   "id": "aefd3ba0",
   "metadata": {
    "id": "oQhrOBMchlga",
    "papermill": {
     "duration": 0.013949,
     "end_time": "2025-05-03T11:07:59.314614",
     "exception": false,
     "start_time": "2025-05-03T11:07:59.300665",
     "status": "completed"
    },
    "tags": []
   },
   "source": [
    "Create DataLoader"
   ]
  },
  {
   "cell_type": "code",
   "execution_count": 18,
   "id": "d71261d1",
   "metadata": {
    "execution": {
     "iopub.execute_input": "2025-05-03T11:07:59.343649Z",
     "iopub.status.busy": "2025-05-03T11:07:59.343320Z",
     "iopub.status.idle": "2025-05-03T11:07:59.347768Z",
     "shell.execute_reply": "2025-05-03T11:07:59.346829Z"
    },
    "executionInfo": {
     "elapsed": 4,
     "status": "ok",
     "timestamp": 1742910813127,
     "user": {
      "displayName": "Matej Kamenicky",
      "userId": "04927559039197615042"
     },
     "user_tz": -60
    },
    "id": "5vR_riMXhmI0",
    "papermill": {
     "duration": 0.02097,
     "end_time": "2025-05-03T11:07:59.349384",
     "exception": false,
     "start_time": "2025-05-03T11:07:59.328414",
     "status": "completed"
    },
    "tags": []
   },
   "outputs": [],
   "source": [
    "train_dataloader = DataLoader(train_dataset, batch_size=params.batch_size_train, shuffle=True)\n",
    "val_dataloader = DataLoader(val_dataset, batch_size=params.batch_size_val, shuffle=False)"
   ]
  },
  {
   "cell_type": "markdown",
   "id": "2b5b4199",
   "metadata": {
    "id": "ZQ7yIfAE2Naq",
    "papermill": {
     "duration": 0.014114,
     "end_time": "2025-05-03T11:07:59.378121",
     "exception": false,
     "start_time": "2025-05-03T11:07:59.364007",
     "status": "completed"
    },
    "tags": []
   },
   "source": [
    "# Model building - U Net"
   ]
  },
  {
   "cell_type": "code",
   "execution_count": 19,
   "id": "429e125e",
   "metadata": {
    "execution": {
     "iopub.execute_input": "2025-05-03T11:07:59.409962Z",
     "iopub.status.busy": "2025-05-03T11:07:59.409609Z",
     "iopub.status.idle": "2025-05-03T11:08:05.915420Z",
     "shell.execute_reply": "2025-05-03T11:08:05.914344Z"
    },
    "executionInfo": {
     "elapsed": 100805,
     "status": "ok",
     "timestamp": 1742910914912,
     "user": {
      "displayName": "Matej Kamenicky",
      "userId": "04927559039197615042"
     },
     "user_tz": -60
    },
    "id": "YboxzHdDZflz",
    "outputId": "45402de1-c640-4aed-fb36-bccdb127b557",
    "papermill": {
     "duration": 6.525292,
     "end_time": "2025-05-03T11:08:05.917350",
     "exception": false,
     "start_time": "2025-05-03T11:07:59.392058",
     "status": "completed"
    },
    "tags": []
   },
   "outputs": [
    {
     "name": "stdout",
     "output_type": "stream",
     "text": [
      "Requirement already satisfied: torchmetrics in /usr/local/lib/python3.10/dist-packages (1.6.1)\r\n",
      "Collecting torchmetrics\r\n",
      "  Downloading torchmetrics-1.7.1-py3-none-any.whl.metadata (21 kB)\r\n",
      "Requirement already satisfied: numpy>1.20.0 in /usr/local/lib/python3.10/dist-packages (from torchmetrics) (1.26.4)\r\n",
      "Requirement already satisfied: packaging>17.1 in /usr/local/lib/python3.10/dist-packages (from torchmetrics) (24.2)\r\n",
      "Requirement already satisfied: torch>=2.0.0 in /usr/local/lib/python3.10/dist-packages (from torchmetrics) (2.5.1+cu121)\r\n",
      "Requirement already satisfied: lightning-utilities>=0.8.0 in /usr/local/lib/python3.10/dist-packages (from torchmetrics) (0.12.0)\r\n",
      "Requirement already satisfied: setuptools in /usr/local/lib/python3.10/dist-packages (from lightning-utilities>=0.8.0->torchmetrics) (75.1.0)\r\n",
      "Requirement already satisfied: typing_extensions in /usr/local/lib/python3.10/dist-packages (from lightning-utilities>=0.8.0->torchmetrics) (4.12.2)\r\n",
      "Requirement already satisfied: mkl_fft in /usr/local/lib/python3.10/dist-packages (from numpy>1.20.0->torchmetrics) (1.3.8)\r\n",
      "Requirement already satisfied: mkl_random in /usr/local/lib/python3.10/dist-packages (from numpy>1.20.0->torchmetrics) (1.2.4)\r\n",
      "Requirement already satisfied: mkl_umath in /usr/local/lib/python3.10/dist-packages (from numpy>1.20.0->torchmetrics) (0.1.1)\r\n",
      "Requirement already satisfied: mkl in /usr/local/lib/python3.10/dist-packages (from numpy>1.20.0->torchmetrics) (2025.0.1)\r\n",
      "Requirement already satisfied: tbb4py in /usr/local/lib/python3.10/dist-packages (from numpy>1.20.0->torchmetrics) (2022.0.0)\r\n",
      "Requirement already satisfied: mkl-service in /usr/local/lib/python3.10/dist-packages (from numpy>1.20.0->torchmetrics) (2.4.1)\r\n",
      "Requirement already satisfied: filelock in /usr/local/lib/python3.10/dist-packages (from torch>=2.0.0->torchmetrics) (3.17.0)\r\n",
      "Requirement already satisfied: networkx in /usr/local/lib/python3.10/dist-packages (from torch>=2.0.0->torchmetrics) (3.4.2)\r\n",
      "Requirement already satisfied: jinja2 in /usr/local/lib/python3.10/dist-packages (from torch>=2.0.0->torchmetrics) (3.1.4)\r\n",
      "Requirement already satisfied: fsspec in /usr/local/lib/python3.10/dist-packages (from torch>=2.0.0->torchmetrics) (2024.12.0)\r\n",
      "Requirement already satisfied: sympy==1.13.1 in /usr/local/lib/python3.10/dist-packages (from torch>=2.0.0->torchmetrics) (1.13.1)\r\n",
      "Requirement already satisfied: mpmath<1.4,>=1.1.0 in /usr/local/lib/python3.10/dist-packages (from sympy==1.13.1->torch>=2.0.0->torchmetrics) (1.3.0)\r\n",
      "Requirement already satisfied: MarkupSafe>=2.0 in /usr/local/lib/python3.10/dist-packages (from jinja2->torch>=2.0.0->torchmetrics) (3.0.2)\r\n",
      "Requirement already satisfied: intel-openmp>=2024 in /usr/local/lib/python3.10/dist-packages (from mkl->numpy>1.20.0->torchmetrics) (2024.2.0)\r\n",
      "Requirement already satisfied: tbb==2022.* in /usr/local/lib/python3.10/dist-packages (from mkl->numpy>1.20.0->torchmetrics) (2022.0.0)\r\n",
      "Requirement already satisfied: tcmlib==1.* in /usr/local/lib/python3.10/dist-packages (from tbb==2022.*->mkl->numpy>1.20.0->torchmetrics) (1.2.0)\r\n",
      "Requirement already satisfied: intel-cmplr-lib-rt in /usr/local/lib/python3.10/dist-packages (from mkl_umath->numpy>1.20.0->torchmetrics) (2024.2.0)\r\n",
      "Requirement already satisfied: intel-cmplr-lib-ur==2024.2.0 in /usr/local/lib/python3.10/dist-packages (from intel-openmp>=2024->mkl->numpy>1.20.0->torchmetrics) (2024.2.0)\r\n",
      "Downloading torchmetrics-1.7.1-py3-none-any.whl (961 kB)\r\n",
      "\u001b[2K   \u001b[90m━━━━━━━━━━━━━━━━━━━━━━━━━━━━━━━━━━━━━━━━\u001b[0m \u001b[32m961.5/961.5 kB\u001b[0m \u001b[31m13.9 MB/s\u001b[0m eta \u001b[36m0:00:00\u001b[0m\r\n",
      "\u001b[?25hInstalling collected packages: torchmetrics\r\n",
      "  Attempting uninstall: torchmetrics\r\n",
      "    Found existing installation: torchmetrics 1.6.1\r\n",
      "    Uninstalling torchmetrics-1.6.1:\r\n",
      "      Successfully uninstalled torchmetrics-1.6.1\r\n",
      "Successfully installed torchmetrics-1.7.1\r\n"
     ]
    }
   ],
   "source": [
    "!pip install --upgrade torchmetrics"
   ]
  },
  {
   "cell_type": "code",
   "execution_count": 20,
   "id": "10e6bab9",
   "metadata": {
    "execution": {
     "iopub.execute_input": "2025-05-03T11:08:05.951080Z",
     "iopub.status.busy": "2025-05-03T11:08:05.950692Z",
     "iopub.status.idle": "2025-05-03T11:08:08.584762Z",
     "shell.execute_reply": "2025-05-03T11:08:08.583956Z"
    },
    "executionInfo": {
     "elapsed": 223,
     "status": "ok",
     "timestamp": 1742910922624,
     "user": {
      "displayName": "Matej Kamenicky",
      "userId": "04927559039197615042"
     },
     "user_tz": -60
    },
    "id": "k7LoYgm52ZUO",
    "papermill": {
     "duration": 2.652862,
     "end_time": "2025-05-03T11:08:08.586565",
     "exception": false,
     "start_time": "2025-05-03T11:08:05.933703",
     "status": "completed"
    },
    "tags": []
   },
   "outputs": [],
   "source": [
    "import torch.nn as nn\n",
    "from torch.utils.data import TensorDataset, DataLoader\n",
    "from torchvision import models\n",
    "import torch.nn.functional as F\n",
    "import torch.optim as optim\n",
    "from torchmetrics.segmentation import DiceScore\n",
    "from IPython.display import FileLink"
   ]
  },
  {
   "cell_type": "code",
   "execution_count": 21,
   "id": "f406b49a",
   "metadata": {
    "execution": {
     "iopub.execute_input": "2025-05-03T11:08:08.618566Z",
     "iopub.status.busy": "2025-05-03T11:08:08.618041Z",
     "iopub.status.idle": "2025-05-03T11:08:08.629186Z",
     "shell.execute_reply": "2025-05-03T11:08:08.628331Z"
    },
    "executionInfo": {
     "elapsed": 3,
     "status": "ok",
     "timestamp": 1742910923422,
     "user": {
      "displayName": "Matej Kamenicky",
      "userId": "04927559039197615042"
     },
     "user_tz": -60
    },
    "id": "m9xIy0zs2wpY",
    "papermill": {
     "duration": 0.028634,
     "end_time": "2025-05-03T11:08:08.630644",
     "exception": false,
     "start_time": "2025-05-03T11:08:08.602010",
     "status": "completed"
    },
    "tags": []
   },
   "outputs": [],
   "source": [
    "class DoubleConv(nn.Module):\n",
    "  def __init__(self, in_channels, out_channels):\n",
    "    super().__init__()\n",
    "    self.double_conv = nn.Sequential(\n",
    "        nn.Conv2d(in_channels, out_channels, kernel_size=3, padding=1),\n",
    "        nn.ReLU(inplace=True),\n",
    "        nn.Conv2d(out_channels, out_channels, kernel_size=3, padding=1),\n",
    "        nn.ReLU(inplace=True),\n",
    "    )\n",
    "\n",
    "  def forward(self, x):\n",
    "    return self.double_conv(x)\n",
    "\n",
    "class DownBlock(nn.Module):\n",
    "  def __init__(self, in_channels, out_channels):\n",
    "    super().__init__()\n",
    "    self.conv = DoubleConv(in_channels, out_channels)\n",
    "    self.pool = nn.MaxPool2d(kernel_size=2, stride=2)\n",
    "\n",
    "  def forward(self, x):\n",
    "    down = self.conv(x)\n",
    "    p = self.pool(down)\n",
    "    return down, p\n",
    "\n",
    "class UpBlock(nn.Module):\n",
    "  def __init__(self, in_channels, out_channels):\n",
    "    super().__init__()\n",
    "    self.up = nn.ConvTranspose2d(in_channels, in_channels//2, kernel_size=2, stride=2)\n",
    "    self.conv = DoubleConv(in_channels, out_channels)\n",
    "\n",
    "  def forward(self, x1, x2):\n",
    "    x1 = self.up(x1)\n",
    "    x = torch.cat([x1, x2], 1)\n",
    "    return self.conv(x)\n",
    "\n",
    "\n",
    "class LandCoverCNN(nn.Module):\n",
    "  def __init__(self, in_channels, num_classes):\n",
    "    super().__init__()\n",
    "\n",
    "    # Encoder block\n",
    "    self.down_conv1 = DownBlock(in_channels, 64)\n",
    "    self.down_conv2 = DownBlock(64, 128)\n",
    "    self.down_conv3 = DownBlock(128, 256)\n",
    "    self.down_conv4 = DownBlock(256, 512)\n",
    "\n",
    "    # Bottle neck\n",
    "    self.bottle_neck  = DoubleConv(512, 1024)\n",
    "\n",
    "    # Decoder block\n",
    "    self.up_conv1 = UpBlock(1024, 512)\n",
    "    self.up_conv2 = UpBlock(512, 256)\n",
    "    self.up_conv3 = UpBlock(256, 128)\n",
    "    self.up_conv4 = UpBlock(128, 64)\n",
    "\n",
    "    # Out block\n",
    "    self.out = nn.Conv2d(64, num_classes, kernel_size=1)\n",
    "\n",
    "  def forward(self, x):\n",
    "    down1, p1 = self.down_conv1(x)\n",
    "    down2, p2 = self.down_conv2(p1)\n",
    "    down3, p3 = self.down_conv3(p2)\n",
    "    down4, p4 = self.down_conv4(p3)\n",
    "\n",
    "    b = self.bottle_neck(p4)\n",
    "\n",
    "    up1 = self.up_conv1(b, down4)\n",
    "    up2 = self.up_conv2(up1, down3)\n",
    "    up3 = self.up_conv3(up2, down2)\n",
    "    up4 = self.up_conv4(up3, down1)\n",
    "\n",
    "    out = self.out(up4)\n",
    "\n",
    "    return out"
   ]
  },
  {
   "cell_type": "code",
   "execution_count": 22,
   "id": "6cb5dfd6",
   "metadata": {
    "execution": {
     "iopub.execute_input": "2025-05-03T11:08:08.662299Z",
     "iopub.status.busy": "2025-05-03T11:08:08.661865Z",
     "iopub.status.idle": "2025-05-03T11:08:09.308876Z",
     "shell.execute_reply": "2025-05-03T11:08:09.307889Z"
    },
    "executionInfo": {
     "elapsed": 1531,
     "status": "ok",
     "timestamp": 1742910926057,
     "user": {
      "displayName": "Matej Kamenicky",
      "userId": "04927559039197615042"
     },
     "user_tz": -60
    },
    "id": "XRZ46Am1Zbcq",
    "papermill": {
     "duration": 0.664908,
     "end_time": "2025-05-03T11:08:09.310739",
     "exception": false,
     "start_time": "2025-05-03T11:08:08.645831",
     "status": "completed"
    },
    "tags": []
   },
   "outputs": [],
   "source": [
    "device = \"cuda:0\" if torch.cuda.is_available() else \"cpu\"\n",
    "\n",
    "model = LandCoverCNN(in_channels=params.in_channels, num_classes=params.num_classes).to(device)"
   ]
  },
  {
   "cell_type": "markdown",
   "id": "d4ec139a",
   "metadata": {
    "id": "Y2ovBOo0fHzB",
    "papermill": {
     "duration": 0.015116,
     "end_time": "2025-05-03T11:08:09.341481",
     "exception": false,
     "start_time": "2025-05-03T11:08:09.326365",
     "status": "completed"
    },
    "tags": []
   },
   "source": [
    "Loss function and optimizer"
   ]
  },
  {
   "cell_type": "code",
   "execution_count": 23,
   "id": "4186bd37",
   "metadata": {
    "execution": {
     "iopub.execute_input": "2025-05-03T11:08:09.374376Z",
     "iopub.status.busy": "2025-05-03T11:08:09.374008Z",
     "iopub.status.idle": "2025-05-03T11:08:09.382195Z",
     "shell.execute_reply": "2025-05-03T11:08:09.381160Z"
    },
    "executionInfo": {
     "elapsed": 5,
     "status": "ok",
     "timestamp": 1742910926965,
     "user": {
      "displayName": "Matej Kamenicky",
      "userId": "04927559039197615042"
     },
     "user_tz": -60
    },
    "id": "DYn2VzT8fFd7",
    "papermill": {
     "duration": 0.026989,
     "end_time": "2025-05-03T11:08:09.384017",
     "exception": false,
     "start_time": "2025-05-03T11:08:09.357028",
     "status": "completed"
    },
    "tags": []
   },
   "outputs": [],
   "source": [
    "weights  = torch.tensor([0.58, 0.11, 0.01, 0.08, 0.03, 0.11, 0.08], dtype=torch.float)\n",
    "loss_fn = nn.CrossEntropyLoss(weight=weights) # Add weight or implement Focalloss - dataset is imbalance\n",
    "\n",
    "optimizer = optim.Adam(model.parameters(), lr=params.lr)\n",
    "\n",
    "dice = DiceScore(num_classes=params.num_classes, average='micro')"
   ]
  },
  {
   "cell_type": "markdown",
   "id": "b9b2272a",
   "metadata": {
    "id": "cBv9PqchfJb9",
    "papermill": {
     "duration": 0.014999,
     "end_time": "2025-05-03T11:08:09.414947",
     "exception": false,
     "start_time": "2025-05-03T11:08:09.399948",
     "status": "completed"
    },
    "tags": []
   },
   "source": [
    "*Training* and *validation* loop with metrics"
   ]
  },
  {
   "cell_type": "code",
   "execution_count": 24,
   "id": "de334a0a",
   "metadata": {
    "execution": {
     "iopub.execute_input": "2025-05-03T11:08:09.447157Z",
     "iopub.status.busy": "2025-05-03T11:08:09.446743Z",
     "iopub.status.idle": "2025-05-03T16:27:54.340347Z",
     "shell.execute_reply": "2025-05-03T16:27:54.339466Z"
    },
    "executionInfo": {
     "elapsed": 212,
     "status": "error",
     "timestamp": 1742910959045,
     "user": {
      "displayName": "Matej Kamenicky",
      "userId": "04927559039197615042"
     },
     "user_tz": -60
    },
    "id": "JgdKUisBeabL",
    "outputId": "95bcc27a-0054-4ebb-cfaa-b73645c54de3",
    "papermill": {
     "duration": 19185.533786,
     "end_time": "2025-05-03T16:27:54.964175",
     "exception": false,
     "start_time": "2025-05-03T11:08:09.430389",
     "status": "completed"
    },
    "tags": []
   },
   "outputs": [
    {
     "name": "stderr",
     "output_type": "stream",
     "text": [
      "100%|██████████| 81/81 [02:32<00:00,  1.88s/it, Epoch: 0, Avg. train loss: 1.1512, Avg. train Dice: 0.4195]\n"
     ]
    },
    {
     "name": "stdout",
     "output_type": "stream",
     "text": [
      "==================================================\n",
      "Epoch 1/100 completed. Starting validation...\n",
      "==================================================\n",
      "Avg val loss: 0.8451003432273865, Avg val Dice: 0.5370239019393921\n",
      "==================================================\n"
     ]
    },
    {
     "name": "stderr",
     "output_type": "stream",
     "text": [
      "100%|██████████| 81/81 [02:25<00:00,  1.80s/it, Epoch: 1, Avg. train loss: 0.8753, Avg. train Dice: 0.5370]\n"
     ]
    },
    {
     "name": "stdout",
     "output_type": "stream",
     "text": [
      "==================================================\n",
      "Epoch 2/100 completed. Starting validation...\n",
      "==================================================\n",
      "Avg val loss: 0.7894674756310203, Avg val Dice: 0.6298141479492188\n",
      "==================================================\n"
     ]
    },
    {
     "name": "stderr",
     "output_type": "stream",
     "text": [
      "100%|██████████| 81/81 [02:26<00:00,  1.81s/it, Epoch: 2, Avg. train loss: 0.8320, Avg. train Dice: 0.5499]\n"
     ]
    },
    {
     "name": "stdout",
     "output_type": "stream",
     "text": [
      "==================================================\n",
      "Epoch 3/100 completed. Starting validation...\n",
      "==================================================\n",
      "Avg val loss: 0.7743060643022711, Avg val Dice: 0.6480631828308105\n",
      "==================================================\n"
     ]
    },
    {
     "name": "stderr",
     "output_type": "stream",
     "text": [
      "100%|██████████| 81/81 [02:27<00:00,  1.82s/it, Epoch: 3, Avg. train loss: 0.8142, Avg. train Dice: 0.5515]\n"
     ]
    },
    {
     "name": "stdout",
     "output_type": "stream",
     "text": [
      "==================================================\n",
      "Epoch 4/100 completed. Starting validation...\n",
      "==================================================\n",
      "Avg val loss: 0.7280436700040643, Avg val Dice: 0.6078332662582397\n",
      "==================================================\n"
     ]
    },
    {
     "name": "stderr",
     "output_type": "stream",
     "text": [
      "100%|██████████| 81/81 [02:27<00:00,  1.82s/it, Epoch: 4, Avg. train loss: 0.8154, Avg. train Dice: 0.5567]\n"
     ]
    },
    {
     "name": "stdout",
     "output_type": "stream",
     "text": [
      "==================================================\n",
      "Epoch 5/100 completed. Starting validation...\n",
      "==================================================\n",
      "Avg val loss: 0.7598128156228499, Avg val Dice: 0.6331365704536438\n",
      "==================================================\n"
     ]
    },
    {
     "name": "stderr",
     "output_type": "stream",
     "text": [
      "100%|██████████| 81/81 [02:28<00:00,  1.83s/it, Epoch: 5, Avg. train loss: 0.7965, Avg. train Dice: 0.5500]\n"
     ]
    },
    {
     "name": "stdout",
     "output_type": "stream",
     "text": [
      "==================================================\n",
      "Epoch 6/100 completed. Starting validation...\n",
      "==================================================\n",
      "Avg val loss: 0.7320021878589283, Avg val Dice: 0.5823154449462891\n",
      "==================================================\n"
     ]
    },
    {
     "name": "stderr",
     "output_type": "stream",
     "text": [
      "100%|██████████| 81/81 [02:28<00:00,  1.83s/it, Epoch: 6, Avg. train loss: 0.7835, Avg. train Dice: 0.5540]\n"
     ]
    },
    {
     "name": "stdout",
     "output_type": "stream",
     "text": [
      "==================================================\n",
      "Epoch 7/100 completed. Starting validation...\n",
      "==================================================\n",
      "Avg val loss: 0.7383124340664257, Avg val Dice: 0.6301246881484985\n",
      "==================================================\n"
     ]
    },
    {
     "name": "stderr",
     "output_type": "stream",
     "text": [
      "100%|██████████| 81/81 [02:27<00:00,  1.83s/it, Epoch: 7, Avg. train loss: 0.7849, Avg. train Dice: 0.5658]\n"
     ]
    },
    {
     "name": "stdout",
     "output_type": "stream",
     "text": [
      "==================================================\n",
      "Epoch 8/100 completed. Starting validation...\n",
      "==================================================\n",
      "Avg val loss: 0.7069058364087885, Avg val Dice: 0.6065366864204407\n",
      "==================================================\n"
     ]
    },
    {
     "name": "stderr",
     "output_type": "stream",
     "text": [
      "100%|██████████| 81/81 [02:26<00:00,  1.81s/it, Epoch: 8, Avg. train loss: 0.7740, Avg. train Dice: 0.5770]\n"
     ]
    },
    {
     "name": "stdout",
     "output_type": "stream",
     "text": [
      "==================================================\n",
      "Epoch 9/100 completed. Starting validation...\n",
      "==================================================\n",
      "Avg val loss: 0.7094811255281622, Avg val Dice: 0.6353665590286255\n",
      "==================================================\n"
     ]
    },
    {
     "name": "stderr",
     "output_type": "stream",
     "text": [
      "100%|██████████| 81/81 [02:29<00:00,  1.84s/it, Epoch: 9, Avg. train loss: 0.7547, Avg. train Dice: 0.5789]\n"
     ]
    },
    {
     "name": "stdout",
     "output_type": "stream",
     "text": [
      "==================================================\n",
      "Epoch 10/100 completed. Starting validation...\n",
      "==================================================\n",
      "Avg val loss: 0.6866700486703352, Avg val Dice: 0.6017258763313293\n",
      "==================================================\n"
     ]
    },
    {
     "name": "stderr",
     "output_type": "stream",
     "text": [
      "100%|██████████| 81/81 [02:28<00:00,  1.84s/it, Epoch: 10, Avg. train loss: 0.7305, Avg. train Dice: 0.5842]\n"
     ]
    },
    {
     "name": "stdout",
     "output_type": "stream",
     "text": [
      "==================================================\n",
      "Epoch 11/100 completed. Starting validation...\n",
      "==================================================\n",
      "Avg val loss: 0.6798804239793257, Avg val Dice: 0.6447470784187317\n",
      "==================================================\n"
     ]
    },
    {
     "name": "stderr",
     "output_type": "stream",
     "text": [
      "100%|██████████| 81/81 [02:28<00:00,  1.84s/it, Epoch: 11, Avg. train loss: 0.7150, Avg. train Dice: 0.5986]\n"
     ]
    },
    {
     "name": "stdout",
     "output_type": "stream",
     "text": [
      "==================================================\n",
      "Epoch 12/100 completed. Starting validation...\n",
      "==================================================\n",
      "Avg val loss: 0.6787873343987898, Avg val Dice: 0.5954180955886841\n",
      "==================================================\n"
     ]
    },
    {
     "name": "stderr",
     "output_type": "stream",
     "text": [
      "100%|██████████| 81/81 [02:29<00:00,  1.85s/it, Epoch: 12, Avg. train loss: 0.7203, Avg. train Dice: 0.6046]\n"
     ]
    },
    {
     "name": "stdout",
     "output_type": "stream",
     "text": [
      "==================================================\n",
      "Epoch 13/100 completed. Starting validation...\n",
      "==================================================\n",
      "Avg val loss: 0.6686186356977983, Avg val Dice: 0.6375792622566223\n",
      "==================================================\n"
     ]
    },
    {
     "name": "stderr",
     "output_type": "stream",
     "text": [
      "100%|██████████| 81/81 [02:29<00:00,  1.85s/it, Epoch: 13, Avg. train loss: 0.7227, Avg. train Dice: 0.6047]\n"
     ]
    },
    {
     "name": "stdout",
     "output_type": "stream",
     "text": [
      "==================================================\n",
      "Epoch 14/100 completed. Starting validation...\n",
      "==================================================\n",
      "Avg val loss: 0.6946281790733337, Avg val Dice: 0.5410839319229126\n",
      "==================================================\n"
     ]
    },
    {
     "name": "stderr",
     "output_type": "stream",
     "text": [
      "100%|██████████| 81/81 [02:29<00:00,  1.85s/it, Epoch: 14, Avg. train loss: 0.6915, Avg. train Dice: 0.6300]\n"
     ]
    },
    {
     "name": "stdout",
     "output_type": "stream",
     "text": [
      "==================================================\n",
      "Epoch 15/100 completed. Starting validation...\n",
      "==================================================\n",
      "Avg val loss: 0.6234870986504988, Avg val Dice: 0.6488004326820374\n",
      "==================================================\n"
     ]
    },
    {
     "name": "stderr",
     "output_type": "stream",
     "text": [
      "100%|██████████| 81/81 [02:30<00:00,  1.86s/it, Epoch: 15, Avg. train loss: 0.6694, Avg. train Dice: 0.6444]\n"
     ]
    },
    {
     "name": "stdout",
     "output_type": "stream",
     "text": [
      "==================================================\n",
      "Epoch 16/100 completed. Starting validation...\n",
      "==================================================\n",
      "Avg val loss: 0.6320587234063582, Avg val Dice: 0.6321930885314941\n",
      "==================================================\n"
     ]
    },
    {
     "name": "stderr",
     "output_type": "stream",
     "text": [
      "100%|██████████| 81/81 [02:27<00:00,  1.83s/it, Epoch: 16, Avg. train loss: 0.6582, Avg. train Dice: 0.6384]\n"
     ]
    },
    {
     "name": "stdout",
     "output_type": "stream",
     "text": [
      "==================================================\n",
      "Epoch 17/100 completed. Starting validation...\n",
      "==================================================\n",
      "Avg val loss: 0.6223534453998912, Avg val Dice: 0.6220768094062805\n",
      "==================================================\n"
     ]
    },
    {
     "name": "stderr",
     "output_type": "stream",
     "text": [
      "100%|██████████| 81/81 [02:30<00:00,  1.85s/it, Epoch: 17, Avg. train loss: 0.6669, Avg. train Dice: 0.6397]\n"
     ]
    },
    {
     "name": "stdout",
     "output_type": "stream",
     "text": [
      "==================================================\n",
      "Epoch 18/100 completed. Starting validation...\n",
      "==================================================\n",
      "Avg val loss: 0.5774165852503343, Avg val Dice: 0.6771277785301208\n",
      "==================================================\n"
     ]
    },
    {
     "name": "stderr",
     "output_type": "stream",
     "text": [
      "100%|██████████| 81/81 [02:28<00:00,  1.84s/it, Epoch: 18, Avg. train loss: 0.6401, Avg. train Dice: 0.6527]\n"
     ]
    },
    {
     "name": "stdout",
     "output_type": "stream",
     "text": [
      "==================================================\n",
      "Epoch 19/100 completed. Starting validation...\n",
      "==================================================\n",
      "Avg val loss: 0.580157605084506, Avg val Dice: 0.7104398608207703\n",
      "==================================================\n"
     ]
    },
    {
     "name": "stderr",
     "output_type": "stream",
     "text": [
      "100%|██████████| 81/81 [02:32<00:00,  1.88s/it, Epoch: 19, Avg. train loss: 0.6282, Avg. train Dice: 0.6613]\n"
     ]
    },
    {
     "name": "stdout",
     "output_type": "stream",
     "text": [
      "==================================================\n",
      "Epoch 20/100 completed. Starting validation...\n",
      "==================================================\n",
      "Avg val loss: 0.566673910075968, Avg val Dice: 0.677112877368927\n",
      "==================================================\n"
     ]
    },
    {
     "name": "stderr",
     "output_type": "stream",
     "text": [
      "100%|██████████| 81/81 [02:31<00:00,  1.86s/it, Epoch: 20, Avg. train loss: 0.6249, Avg. train Dice: 0.6658]\n"
     ]
    },
    {
     "name": "stdout",
     "output_type": "stream",
     "text": [
      "==================================================\n",
      "Epoch 21/100 completed. Starting validation...\n",
      "==================================================\n",
      "Avg val loss: 0.5581954229961742, Avg val Dice: 0.6877584457397461\n",
      "==================================================\n"
     ]
    },
    {
     "name": "stderr",
     "output_type": "stream",
     "text": [
      "100%|██████████| 81/81 [02:32<00:00,  1.88s/it, Epoch: 21, Avg. train loss: 0.6160, Avg. train Dice: 0.6604]\n"
     ]
    },
    {
     "name": "stdout",
     "output_type": "stream",
     "text": [
      "==================================================\n",
      "Epoch 22/100 completed. Starting validation...\n",
      "==================================================\n",
      "Avg val loss: 0.6091544411399148, Avg val Dice: 0.639563262462616\n",
      "==================================================\n"
     ]
    },
    {
     "name": "stderr",
     "output_type": "stream",
     "text": [
      "100%|██████████| 81/81 [02:33<00:00,  1.89s/it, Epoch: 22, Avg. train loss: 0.6314, Avg. train Dice: 0.6671]\n"
     ]
    },
    {
     "name": "stdout",
     "output_type": "stream",
     "text": [
      "==================================================\n",
      "Epoch 23/100 completed. Starting validation...\n",
      "==================================================\n",
      "Avg val loss: 0.5478416031057184, Avg val Dice: 0.6869590878486633\n",
      "==================================================\n"
     ]
    },
    {
     "name": "stderr",
     "output_type": "stream",
     "text": [
      "100%|██████████| 81/81 [02:33<00:00,  1.90s/it, Epoch: 23, Avg. train loss: 0.6349, Avg. train Dice: 0.6625]\n"
     ]
    },
    {
     "name": "stdout",
     "output_type": "stream",
     "text": [
      "==================================================\n",
      "Epoch 24/100 completed. Starting validation...\n",
      "==================================================\n",
      "Avg val loss: 0.6321844214742834, Avg val Dice: 0.6229701638221741\n",
      "==================================================\n"
     ]
    },
    {
     "name": "stderr",
     "output_type": "stream",
     "text": [
      "100%|██████████| 81/81 [02:34<00:00,  1.90s/it, Epoch: 24, Avg. train loss: 0.6209, Avg. train Dice: 0.6732]\n"
     ]
    },
    {
     "name": "stdout",
     "output_type": "stream",
     "text": [
      "==================================================\n",
      "Epoch 25/100 completed. Starting validation...\n",
      "==================================================\n",
      "Avg val loss: 0.567160579291257, Avg val Dice: 0.7320448756217957\n",
      "==================================================\n"
     ]
    },
    {
     "name": "stderr",
     "output_type": "stream",
     "text": [
      "100%|██████████| 81/81 [02:35<00:00,  1.92s/it, Epoch: 25, Avg. train loss: 0.6222, Avg. train Dice: 0.6662]\n"
     ]
    },
    {
     "name": "stdout",
     "output_type": "stream",
     "text": [
      "==================================================\n",
      "Epoch 26/100 completed. Starting validation...\n",
      "==================================================\n",
      "Avg val loss: 0.6039207794449546, Avg val Dice: 0.6473912596702576\n",
      "==================================================\n"
     ]
    },
    {
     "name": "stderr",
     "output_type": "stream",
     "text": [
      "100%|██████████| 81/81 [02:35<00:00,  1.92s/it, Epoch: 26, Avg. train loss: 0.5984, Avg. train Dice: 0.6741]\n"
     ]
    },
    {
     "name": "stdout",
     "output_type": "stream",
     "text": [
      "==================================================\n",
      "Epoch 27/100 completed. Starting validation...\n",
      "==================================================\n",
      "Avg val loss: 0.5347281233830885, Avg val Dice: 0.7215564846992493\n",
      "==================================================\n"
     ]
    },
    {
     "name": "stderr",
     "output_type": "stream",
     "text": [
      "100%|██████████| 81/81 [02:36<00:00,  1.93s/it, Epoch: 27, Avg. train loss: 0.5863, Avg. train Dice: 0.6927]\n"
     ]
    },
    {
     "name": "stdout",
     "output_type": "stream",
     "text": [
      "==================================================\n",
      "Epoch 28/100 completed. Starting validation...\n",
      "==================================================\n",
      "Avg val loss: 0.538551693612879, Avg val Dice: 0.7025883793830872\n",
      "==================================================\n"
     ]
    },
    {
     "name": "stderr",
     "output_type": "stream",
     "text": [
      "100%|██████████| 81/81 [02:37<00:00,  1.94s/it, Epoch: 28, Avg. train loss: 0.5824, Avg. train Dice: 0.6976]\n"
     ]
    },
    {
     "name": "stdout",
     "output_type": "stream",
     "text": [
      "==================================================\n",
      "Epoch 29/100 completed. Starting validation...\n",
      "==================================================\n",
      "Avg val loss: 0.5162836909294128, Avg val Dice: 0.721221923828125\n",
      "==================================================\n"
     ]
    },
    {
     "name": "stderr",
     "output_type": "stream",
     "text": [
      "100%|██████████| 81/81 [02:36<00:00,  1.93s/it, Epoch: 29, Avg. train loss: 0.5721, Avg. train Dice: 0.6969]\n"
     ]
    },
    {
     "name": "stdout",
     "output_type": "stream",
     "text": [
      "==================================================\n",
      "Epoch 30/100 completed. Starting validation...\n",
      "==================================================\n",
      "Avg val loss: 0.5084957209500399, Avg val Dice: 0.7464921474456787\n",
      "==================================================\n"
     ]
    },
    {
     "name": "stderr",
     "output_type": "stream",
     "text": [
      "100%|██████████| 81/81 [02:36<00:00,  1.94s/it, Epoch: 30, Avg. train loss: 0.5536, Avg. train Dice: 0.7153]\n"
     ]
    },
    {
     "name": "stdout",
     "output_type": "stream",
     "text": [
      "==================================================\n",
      "Epoch 31/100 completed. Starting validation...\n",
      "==================================================\n",
      "Avg val loss: 0.5081483694640073, Avg val Dice: 0.7495562434196472\n",
      "==================================================\n"
     ]
    },
    {
     "name": "stderr",
     "output_type": "stream",
     "text": [
      "100%|██████████| 81/81 [02:34<00:00,  1.91s/it, Epoch: 31, Avg. train loss: 0.5588, Avg. train Dice: 0.7070]\n"
     ]
    },
    {
     "name": "stdout",
     "output_type": "stream",
     "text": [
      "==================================================\n",
      "Epoch 32/100 completed. Starting validation...\n",
      "==================================================\n",
      "Avg val loss: 0.5534798936410383, Avg val Dice: 0.6944199800491333\n",
      "==================================================\n"
     ]
    },
    {
     "name": "stderr",
     "output_type": "stream",
     "text": [
      "100%|██████████| 81/81 [02:33<00:00,  1.89s/it, Epoch: 32, Avg. train loss: 0.5563, Avg. train Dice: 0.7089]\n"
     ]
    },
    {
     "name": "stdout",
     "output_type": "stream",
     "text": [
      "==================================================\n",
      "Epoch 33/100 completed. Starting validation...\n",
      "==================================================\n",
      "Avg val loss: 0.5014316222884438, Avg val Dice: 0.7285091280937195\n",
      "==================================================\n"
     ]
    },
    {
     "name": "stderr",
     "output_type": "stream",
     "text": [
      "100%|██████████| 81/81 [02:35<00:00,  1.92s/it, Epoch: 33, Avg. train loss: 0.5582, Avg. train Dice: 0.7103]\n"
     ]
    },
    {
     "name": "stdout",
     "output_type": "stream",
     "text": [
      "==================================================\n",
      "Epoch 34/100 completed. Starting validation...\n",
      "==================================================\n",
      "Avg val loss: 0.5289132513783195, Avg val Dice: 0.6762034296989441\n",
      "==================================================\n"
     ]
    },
    {
     "name": "stderr",
     "output_type": "stream",
     "text": [
      "100%|██████████| 81/81 [02:35<00:00,  1.92s/it, Epoch: 34, Avg. train loss: 0.5324, Avg. train Dice: 0.7227]\n"
     ]
    },
    {
     "name": "stdout",
     "output_type": "stream",
     "text": [
      "==================================================\n",
      "Epoch 35/100 completed. Starting validation...\n",
      "==================================================\n",
      "Avg val loss: 0.5043297139081088, Avg val Dice: 0.7270553112030029\n",
      "==================================================\n"
     ]
    },
    {
     "name": "stderr",
     "output_type": "stream",
     "text": [
      "100%|██████████| 81/81 [02:36<00:00,  1.93s/it, Epoch: 35, Avg. train loss: 0.5764, Avg. train Dice: 0.6973]\n"
     ]
    },
    {
     "name": "stdout",
     "output_type": "stream",
     "text": [
      "==================================================\n",
      "Epoch 36/100 completed. Starting validation...\n",
      "==================================================\n",
      "Avg val loss: 0.5232266539877112, Avg val Dice: 0.678048312664032\n",
      "==================================================\n"
     ]
    },
    {
     "name": "stderr",
     "output_type": "stream",
     "text": [
      "100%|██████████| 81/81 [02:34<00:00,  1.90s/it, Epoch: 36, Avg. train loss: 0.5451, Avg. train Dice: 0.7125]\n"
     ]
    },
    {
     "name": "stdout",
     "output_type": "stream",
     "text": [
      "==================================================\n",
      "Epoch 37/100 completed. Starting validation...\n",
      "==================================================\n",
      "Avg val loss: 0.5186916400085796, Avg val Dice: 0.711237907409668\n",
      "==================================================\n"
     ]
    },
    {
     "name": "stderr",
     "output_type": "stream",
     "text": [
      "100%|██████████| 81/81 [02:36<00:00,  1.93s/it, Epoch: 37, Avg. train loss: 0.5329, Avg. train Dice: 0.7188]\n"
     ]
    },
    {
     "name": "stdout",
     "output_type": "stream",
     "text": [
      "==================================================\n",
      "Epoch 38/100 completed. Starting validation...\n",
      "==================================================\n",
      "Avg val loss: 0.48108406500382855, Avg val Dice: 0.7611663937568665\n",
      "==================================================\n"
     ]
    },
    {
     "name": "stderr",
     "output_type": "stream",
     "text": [
      "100%|██████████| 81/81 [02:33<00:00,  1.90s/it, Epoch: 38, Avg. train loss: 0.5168, Avg. train Dice: 0.7266]\n"
     ]
    },
    {
     "name": "stdout",
     "output_type": "stream",
     "text": [
      "==================================================\n",
      "Epoch 39/100 completed. Starting validation...\n",
      "==================================================\n",
      "Avg val loss: 0.49992662397297943, Avg val Dice: 0.7047564387321472\n",
      "==================================================\n"
     ]
    },
    {
     "name": "stderr",
     "output_type": "stream",
     "text": [
      "100%|██████████| 81/81 [02:33<00:00,  1.89s/it, Epoch: 39, Avg. train loss: 0.5096, Avg. train Dice: 0.7288]\n"
     ]
    },
    {
     "name": "stdout",
     "output_type": "stream",
     "text": [
      "==================================================\n",
      "Epoch 40/100 completed. Starting validation...\n",
      "==================================================\n",
      "Avg val loss: 0.4675169018181888, Avg val Dice: 0.7455180883407593\n",
      "==================================================\n"
     ]
    },
    {
     "name": "stderr",
     "output_type": "stream",
     "text": [
      "100%|██████████| 81/81 [02:35<00:00,  1.92s/it, Epoch: 40, Avg. train loss: 0.5086, Avg. train Dice: 0.7307]\n"
     ]
    },
    {
     "name": "stdout",
     "output_type": "stream",
     "text": [
      "==================================================\n",
      "Epoch 41/100 completed. Starting validation...\n",
      "==================================================\n",
      "Avg val loss: 0.47283775968985126, Avg val Dice: 0.7460229396820068\n",
      "==================================================\n"
     ]
    },
    {
     "name": "stderr",
     "output_type": "stream",
     "text": [
      "100%|██████████| 81/81 [02:35<00:00,  1.91s/it, Epoch: 41, Avg. train loss: 0.5128, Avg. train Dice: 0.7290]\n"
     ]
    },
    {
     "name": "stdout",
     "output_type": "stream",
     "text": [
      "==================================================\n",
      "Epoch 42/100 completed. Starting validation...\n",
      "==================================================\n",
      "Avg val loss: 0.4698941978541287, Avg val Dice: 0.7454813122749329\n",
      "==================================================\n"
     ]
    },
    {
     "name": "stderr",
     "output_type": "stream",
     "text": [
      "100%|██████████| 81/81 [02:34<00:00,  1.91s/it, Epoch: 42, Avg. train loss: 0.5108, Avg. train Dice: 0.7321]\n"
     ]
    },
    {
     "name": "stdout",
     "output_type": "stream",
     "text": [
      "==================================================\n",
      "Epoch 43/100 completed. Starting validation...\n",
      "==================================================\n",
      "Avg val loss: 0.4521321681412784, Avg val Dice: 0.7512772679328918\n",
      "==================================================\n"
     ]
    },
    {
     "name": "stderr",
     "output_type": "stream",
     "text": [
      "100%|██████████| 81/81 [02:37<00:00,  1.94s/it, Epoch: 43, Avg. train loss: 0.5036, Avg. train Dice: 0.7354]\n"
     ]
    },
    {
     "name": "stdout",
     "output_type": "stream",
     "text": [
      "==================================================\n",
      "Epoch 44/100 completed. Starting validation...\n",
      "==================================================\n",
      "Avg val loss: 0.4798567538911646, Avg val Dice: 0.7200916409492493\n",
      "==================================================\n"
     ]
    },
    {
     "name": "stderr",
     "output_type": "stream",
     "text": [
      "100%|██████████| 81/81 [02:36<00:00,  1.93s/it, Epoch: 44, Avg. train loss: 0.4841, Avg. train Dice: 0.7401]\n"
     ]
    },
    {
     "name": "stdout",
     "output_type": "stream",
     "text": [
      "==================================================\n",
      "Epoch 45/100 completed. Starting validation...\n",
      "==================================================\n",
      "Avg val loss: 0.4532912400635806, Avg val Dice: 0.74442458152771\n",
      "==================================================\n"
     ]
    },
    {
     "name": "stderr",
     "output_type": "stream",
     "text": [
      "100%|██████████| 81/81 [02:39<00:00,  1.96s/it, Epoch: 45, Avg. train loss: 0.4899, Avg. train Dice: 0.7348]\n"
     ]
    },
    {
     "name": "stdout",
     "output_type": "stream",
     "text": [
      "==================================================\n",
      "Epoch 46/100 completed. Starting validation...\n",
      "==================================================\n",
      "Avg val loss: 0.4562212039123882, Avg val Dice: 0.7430873513221741\n",
      "==================================================\n"
     ]
    },
    {
     "name": "stderr",
     "output_type": "stream",
     "text": [
      "100%|██████████| 81/81 [02:36<00:00,  1.93s/it, Epoch: 46, Avg. train loss: 0.5039, Avg. train Dice: 0.7295]\n"
     ]
    },
    {
     "name": "stdout",
     "output_type": "stream",
     "text": [
      "==================================================\n",
      "Epoch 47/100 completed. Starting validation...\n",
      "==================================================\n",
      "Avg val loss: 0.46375851197676227, Avg val Dice: 0.7638069987297058\n",
      "==================================================\n"
     ]
    },
    {
     "name": "stderr",
     "output_type": "stream",
     "text": [
      "100%|██████████| 81/81 [02:36<00:00,  1.94s/it, Epoch: 47, Avg. train loss: 0.5028, Avg. train Dice: 0.7321]\n"
     ]
    },
    {
     "name": "stdout",
     "output_type": "stream",
     "text": [
      "==================================================\n",
      "Epoch 48/100 completed. Starting validation...\n",
      "==================================================\n",
      "Avg val loss: 0.49472574212334375, Avg val Dice: 0.731266975402832\n",
      "==================================================\n"
     ]
    },
    {
     "name": "stderr",
     "output_type": "stream",
     "text": [
      "100%|██████████| 81/81 [02:35<00:00,  1.92s/it, Epoch: 48, Avg. train loss: 0.4821, Avg. train Dice: 0.7425]\n"
     ]
    },
    {
     "name": "stdout",
     "output_type": "stream",
     "text": [
      "==================================================\n",
      "Epoch 49/100 completed. Starting validation...\n",
      "==================================================\n",
      "Avg val loss: 0.4501489455049688, Avg val Dice: 0.7710286378860474\n",
      "==================================================\n"
     ]
    },
    {
     "name": "stderr",
     "output_type": "stream",
     "text": [
      "100%|██████████| 81/81 [02:36<00:00,  1.93s/it, Epoch: 49, Avg. train loss: 0.4913, Avg. train Dice: 0.7366]\n"
     ]
    },
    {
     "name": "stdout",
     "output_type": "stream",
     "text": [
      "==================================================\n",
      "Epoch 50/100 completed. Starting validation...\n",
      "==================================================\n",
      "Avg val loss: 0.46749458529732446, Avg val Dice: 0.7127000093460083\n",
      "==================================================\n"
     ]
    },
    {
     "name": "stderr",
     "output_type": "stream",
     "text": [
      "100%|██████████| 81/81 [02:37<00:00,  1.95s/it, Epoch: 50, Avg. train loss: 0.4980, Avg. train Dice: 0.7342]\n"
     ]
    },
    {
     "name": "stdout",
     "output_type": "stream",
     "text": [
      "==================================================\n",
      "Epoch 51/100 completed. Starting validation...\n",
      "==================================================\n",
      "Avg val loss: 0.460279407826337, Avg val Dice: 0.72806715965271\n",
      "==================================================\n"
     ]
    },
    {
     "name": "stderr",
     "output_type": "stream",
     "text": [
      "100%|██████████| 81/81 [02:38<00:00,  1.95s/it, Epoch: 51, Avg. train loss: 0.4722, Avg. train Dice: 0.7434]\n"
     ]
    },
    {
     "name": "stdout",
     "output_type": "stream",
     "text": [
      "==================================================\n",
      "Epoch 52/100 completed. Starting validation...\n",
      "==================================================\n",
      "Avg val loss: 0.45458581230857154, Avg val Dice: 0.7659602165222168\n",
      "==================================================\n"
     ]
    },
    {
     "name": "stderr",
     "output_type": "stream",
     "text": [
      "100%|██████████| 81/81 [02:36<00:00,  1.93s/it, Epoch: 52, Avg. train loss: 0.4912, Avg. train Dice: 0.7337]\n"
     ]
    },
    {
     "name": "stdout",
     "output_type": "stream",
     "text": [
      "==================================================\n",
      "Epoch 53/100 completed. Starting validation...\n",
      "==================================================\n",
      "Avg val loss: 0.438302373344248, Avg val Dice: 0.7532777190208435\n",
      "==================================================\n"
     ]
    },
    {
     "name": "stderr",
     "output_type": "stream",
     "text": [
      "100%|██████████| 81/81 [02:37<00:00,  1.95s/it, Epoch: 53, Avg. train loss: 0.4600, Avg. train Dice: 0.7505]\n"
     ]
    },
    {
     "name": "stdout",
     "output_type": "stream",
     "text": [
      "==================================================\n",
      "Epoch 54/100 completed. Starting validation...\n",
      "==================================================\n",
      "Avg val loss: 0.46217661554163153, Avg val Dice: 0.7543073296546936\n",
      "==================================================\n"
     ]
    },
    {
     "name": "stderr",
     "output_type": "stream",
     "text": [
      "100%|██████████| 81/81 [02:43<00:00,  2.02s/it, Epoch: 54, Avg. train loss: 0.4687, Avg. train Dice: 0.7445]\n"
     ]
    },
    {
     "name": "stdout",
     "output_type": "stream",
     "text": [
      "==================================================\n",
      "Epoch 55/100 completed. Starting validation...\n",
      "==================================================\n",
      "Avg val loss: 0.4455232999541543, Avg val Dice: 0.7561463713645935\n",
      "==================================================\n"
     ]
    },
    {
     "name": "stderr",
     "output_type": "stream",
     "text": [
      "100%|██████████| 81/81 [02:44<00:00,  2.03s/it, Epoch: 55, Avg. train loss: 0.4639, Avg. train Dice: 0.7486]\n"
     ]
    },
    {
     "name": "stdout",
     "output_type": "stream",
     "text": [
      "==================================================\n",
      "Epoch 56/100 completed. Starting validation...\n",
      "==================================================\n",
      "Avg val loss: 0.4651971296830611, Avg val Dice: 0.7043075561523438\n",
      "==================================================\n"
     ]
    },
    {
     "name": "stderr",
     "output_type": "stream",
     "text": [
      "100%|██████████| 81/81 [02:45<00:00,  2.05s/it, Epoch: 56, Avg. train loss: 0.4647, Avg. train Dice: 0.7454]\n"
     ]
    },
    {
     "name": "stdout",
     "output_type": "stream",
     "text": [
      "==================================================\n",
      "Epoch 57/100 completed. Starting validation...\n",
      "==================================================\n",
      "Avg val loss: 0.46751188148151746, Avg val Dice: 0.7560111880302429\n",
      "==================================================\n"
     ]
    },
    {
     "name": "stderr",
     "output_type": "stream",
     "text": [
      "100%|██████████| 81/81 [02:45<00:00,  2.04s/it, Epoch: 57, Avg. train loss: 0.4741, Avg. train Dice: 0.7456]\n"
     ]
    },
    {
     "name": "stdout",
     "output_type": "stream",
     "text": [
      "==================================================\n",
      "Epoch 58/100 completed. Starting validation...\n",
      "==================================================\n",
      "Avg val loss: 0.4782497259703549, Avg val Dice: 0.6994327306747437\n",
      "==================================================\n"
     ]
    },
    {
     "name": "stderr",
     "output_type": "stream",
     "text": [
      "100%|██████████| 81/81 [02:45<00:00,  2.05s/it, Epoch: 58, Avg. train loss: 0.4674, Avg. train Dice: 0.7442]\n"
     ]
    },
    {
     "name": "stdout",
     "output_type": "stream",
     "text": [
      "==================================================\n",
      "Epoch 59/100 completed. Starting validation...\n",
      "==================================================\n",
      "Avg val loss: 0.4359047385779294, Avg val Dice: 0.7537215948104858\n",
      "==================================================\n"
     ]
    },
    {
     "name": "stderr",
     "output_type": "stream",
     "text": [
      "100%|██████████| 81/81 [02:41<00:00,  2.00s/it, Epoch: 59, Avg. train loss: 0.4957, Avg. train Dice: 0.7238]\n"
     ]
    },
    {
     "name": "stdout",
     "output_type": "stream",
     "text": [
      "==================================================\n",
      "Epoch 60/100 completed. Starting validation...\n",
      "==================================================\n",
      "Avg val loss: 0.44171028245579114, Avg val Dice: 0.7529613375663757\n",
      "==================================================\n"
     ]
    },
    {
     "name": "stderr",
     "output_type": "stream",
     "text": [
      "100%|██████████| 81/81 [02:37<00:00,  1.95s/it, Epoch: 60, Avg. train loss: 0.4572, Avg. train Dice: 0.7511]\n"
     ]
    },
    {
     "name": "stdout",
     "output_type": "stream",
     "text": [
      "==================================================\n",
      "Epoch 61/100 completed. Starting validation...\n",
      "==================================================\n",
      "Avg val loss: 0.4661572954871438, Avg val Dice: 0.7725698351860046\n",
      "==================================================\n"
     ]
    },
    {
     "name": "stderr",
     "output_type": "stream",
     "text": [
      "100%|██████████| 81/81 [02:35<00:00,  1.92s/it, Epoch: 61, Avg. train loss: 0.4553, Avg. train Dice: 0.7485]\n"
     ]
    },
    {
     "name": "stdout",
     "output_type": "stream",
     "text": [
      "==================================================\n",
      "Epoch 62/100 completed. Starting validation...\n",
      "==================================================\n",
      "Avg val loss: 0.4364689439535141, Avg val Dice: 0.784467875957489\n",
      "==================================================\n"
     ]
    },
    {
     "name": "stderr",
     "output_type": "stream",
     "text": [
      "100%|██████████| 81/81 [02:34<00:00,  1.90s/it, Epoch: 62, Avg. train loss: 0.4527, Avg. train Dice: 0.7544]\n"
     ]
    },
    {
     "name": "stdout",
     "output_type": "stream",
     "text": [
      "==================================================\n",
      "Epoch 63/100 completed. Starting validation...\n",
      "==================================================\n",
      "Avg val loss: 0.42909614877267316, Avg val Dice: 0.7785794138908386\n",
      "==================================================\n"
     ]
    },
    {
     "name": "stderr",
     "output_type": "stream",
     "text": [
      "100%|██████████| 81/81 [02:31<00:00,  1.87s/it, Epoch: 63, Avg. train loss: 0.4361, Avg. train Dice: 0.7611]\n"
     ]
    },
    {
     "name": "stdout",
     "output_type": "stream",
     "text": [
      "==================================================\n",
      "Epoch 64/100 completed. Starting validation...\n",
      "==================================================\n",
      "Avg val loss: 0.4379278150471774, Avg val Dice: 0.7525759935379028\n",
      "==================================================\n"
     ]
    },
    {
     "name": "stderr",
     "output_type": "stream",
     "text": [
      "100%|██████████| 81/81 [02:32<00:00,  1.89s/it, Epoch: 64, Avg. train loss: 0.4414, Avg. train Dice: 0.7596]\n"
     ]
    },
    {
     "name": "stdout",
     "output_type": "stream",
     "text": [
      "==================================================\n",
      "Epoch 65/100 completed. Starting validation...\n",
      "==================================================\n",
      "Avg val loss: 0.435726287690076, Avg val Dice: 0.7793962359428406\n",
      "==================================================\n"
     ]
    },
    {
     "name": "stderr",
     "output_type": "stream",
     "text": [
      "100%|██████████| 81/81 [02:39<00:00,  1.96s/it, Epoch: 65, Avg. train loss: 0.4444, Avg. train Dice: 0.7498]\n"
     ]
    },
    {
     "name": "stdout",
     "output_type": "stream",
     "text": [
      "==================================================\n",
      "Epoch 66/100 completed. Starting validation...\n",
      "==================================================\n",
      "Avg val loss: 0.44488187405196106, Avg val Dice: 0.7716562151908875\n",
      "==================================================\n"
     ]
    },
    {
     "name": "stderr",
     "output_type": "stream",
     "text": [
      "100%|██████████| 81/81 [02:40<00:00,  1.98s/it, Epoch: 66, Avg. train loss: 0.4350, Avg. train Dice: 0.7599]\n"
     ]
    },
    {
     "name": "stdout",
     "output_type": "stream",
     "text": [
      "==================================================\n",
      "Epoch 67/100 completed. Starting validation...\n",
      "==================================================\n",
      "Avg val loss: 0.4287494962865656, Avg val Dice: 0.7598580718040466\n",
      "==================================================\n"
     ]
    },
    {
     "name": "stderr",
     "output_type": "stream",
     "text": [
      "100%|██████████| 81/81 [02:40<00:00,  1.98s/it, Epoch: 67, Avg. train loss: 0.4391, Avg. train Dice: 0.7566]\n"
     ]
    },
    {
     "name": "stdout",
     "output_type": "stream",
     "text": [
      "==================================================\n",
      "Epoch 68/100 completed. Starting validation...\n",
      "==================================================\n",
      "Avg val loss: 0.42270044034177606, Avg val Dice: 0.7716547846794128\n",
      "==================================================\n"
     ]
    },
    {
     "name": "stderr",
     "output_type": "stream",
     "text": [
      "100%|██████████| 81/81 [02:42<00:00,  2.01s/it, Epoch: 68, Avg. train loss: 0.4462, Avg. train Dice: 0.7553]\n"
     ]
    },
    {
     "name": "stdout",
     "output_type": "stream",
     "text": [
      "==================================================\n",
      "Epoch 69/100 completed. Starting validation...\n",
      "==================================================\n",
      "Avg val loss: 0.4576899219642986, Avg val Dice: 0.7575368285179138\n",
      "==================================================\n"
     ]
    },
    {
     "name": "stderr",
     "output_type": "stream",
     "text": [
      "100%|██████████| 81/81 [02:46<00:00,  2.05s/it, Epoch: 69, Avg. train loss: 0.4447, Avg. train Dice: 0.7533]\n"
     ]
    },
    {
     "name": "stdout",
     "output_type": "stream",
     "text": [
      "==================================================\n",
      "Epoch 70/100 completed. Starting validation...\n",
      "==================================================\n",
      "Avg val loss: 0.43792093071070587, Avg val Dice: 0.7549117803573608\n",
      "==================================================\n"
     ]
    },
    {
     "name": "stderr",
     "output_type": "stream",
     "text": [
      "100%|██████████| 81/81 [02:45<00:00,  2.05s/it, Epoch: 70, Avg. train loss: 0.4370, Avg. train Dice: 0.7562]\n"
     ]
    },
    {
     "name": "stdout",
     "output_type": "stream",
     "text": [
      "==================================================\n",
      "Epoch 71/100 completed. Starting validation...\n",
      "==================================================\n",
      "Avg val loss: 0.4214092899452556, Avg val Dice: 0.7530393004417419\n",
      "==================================================\n"
     ]
    },
    {
     "name": "stderr",
     "output_type": "stream",
     "text": [
      "100%|██████████| 81/81 [02:46<00:00,  2.06s/it, Epoch: 71, Avg. train loss: 0.4239, Avg. train Dice: 0.7665]\n"
     ]
    },
    {
     "name": "stdout",
     "output_type": "stream",
     "text": [
      "==================================================\n",
      "Epoch 72/100 completed. Starting validation...\n",
      "==================================================\n",
      "Avg val loss: 0.41365657340396533, Avg val Dice: 0.7789819836616516\n",
      "==================================================\n"
     ]
    },
    {
     "name": "stderr",
     "output_type": "stream",
     "text": [
      "100%|██████████| 81/81 [02:50<00:00,  2.10s/it, Epoch: 72, Avg. train loss: 0.4295, Avg. train Dice: 0.7610]\n"
     ]
    },
    {
     "name": "stdout",
     "output_type": "stream",
     "text": [
      "==================================================\n",
      "Epoch 73/100 completed. Starting validation...\n",
      "==================================================\n",
      "Avg val loss: 0.4175820296460932, Avg val Dice: 0.7694505453109741\n",
      "==================================================\n"
     ]
    },
    {
     "name": "stderr",
     "output_type": "stream",
     "text": [
      "100%|██████████| 81/81 [02:48<00:00,  2.08s/it, Epoch: 73, Avg. train loss: 0.4255, Avg. train Dice: 0.7604]\n"
     ]
    },
    {
     "name": "stdout",
     "output_type": "stream",
     "text": [
      "==================================================\n",
      "Epoch 74/100 completed. Starting validation...\n",
      "==================================================\n",
      "Avg val loss: 0.4211594381115653, Avg val Dice: 0.7719324231147766\n",
      "==================================================\n"
     ]
    },
    {
     "name": "stderr",
     "output_type": "stream",
     "text": [
      "100%|██████████| 81/81 [02:47<00:00,  2.07s/it, Epoch: 74, Avg. train loss: 0.4341, Avg. train Dice: 0.7562]\n"
     ]
    },
    {
     "name": "stdout",
     "output_type": "stream",
     "text": [
      "==================================================\n",
      "Epoch 75/100 completed. Starting validation...\n",
      "==================================================\n",
      "Avg val loss: 0.4218728406862779, Avg val Dice: 0.7589499354362488\n",
      "==================================================\n"
     ]
    },
    {
     "name": "stderr",
     "output_type": "stream",
     "text": [
      "100%|██████████| 81/81 [02:45<00:00,  2.04s/it, Epoch: 75, Avg. train loss: 0.4291, Avg. train Dice: 0.7583]\n"
     ]
    },
    {
     "name": "stdout",
     "output_type": "stream",
     "text": [
      "==================================================\n",
      "Epoch 76/100 completed. Starting validation...\n",
      "==================================================\n",
      "Avg val loss: 0.42020018805157056, Avg val Dice: 0.7662178874015808\n",
      "==================================================\n"
     ]
    },
    {
     "name": "stderr",
     "output_type": "stream",
     "text": [
      "100%|██████████| 81/81 [02:43<00:00,  2.02s/it, Epoch: 76, Avg. train loss: 0.4127, Avg. train Dice: 0.7685]\n"
     ]
    },
    {
     "name": "stdout",
     "output_type": "stream",
     "text": [
      "==================================================\n",
      "Epoch 77/100 completed. Starting validation...\n",
      "==================================================\n",
      "Avg val loss: 0.42481002888896247, Avg val Dice: 0.7710320949554443\n",
      "==================================================\n"
     ]
    },
    {
     "name": "stderr",
     "output_type": "stream",
     "text": [
      "100%|██████████| 81/81 [02:44<00:00,  2.03s/it, Epoch: 77, Avg. train loss: 0.4238, Avg. train Dice: 0.7634]\n"
     ]
    },
    {
     "name": "stdout",
     "output_type": "stream",
     "text": [
      "==================================================\n",
      "Epoch 78/100 completed. Starting validation...\n",
      "==================================================\n",
      "Avg val loss: 0.4472261951728301, Avg val Dice: 0.7834794521331787\n",
      "==================================================\n"
     ]
    },
    {
     "name": "stderr",
     "output_type": "stream",
     "text": [
      "100%|██████████| 81/81 [02:44<00:00,  2.03s/it, Epoch: 78, Avg. train loss: 0.4177, Avg. train Dice: 0.7647]\n"
     ]
    },
    {
     "name": "stdout",
     "output_type": "stream",
     "text": [
      "==================================================\n",
      "Epoch 79/100 completed. Starting validation...\n",
      "==================================================\n",
      "Avg val loss: 0.4069765548814427, Avg val Dice: 0.7848876714706421\n",
      "==================================================\n"
     ]
    },
    {
     "name": "stderr",
     "output_type": "stream",
     "text": [
      "100%|██████████| 81/81 [02:37<00:00,  1.95s/it, Epoch: 79, Avg. train loss: 0.4012, Avg. train Dice: 0.7716]\n"
     ]
    },
    {
     "name": "stdout",
     "output_type": "stream",
     "text": [
      "==================================================\n",
      "Epoch 80/100 completed. Starting validation...\n",
      "==================================================\n",
      "Avg val loss: 0.395606204867363, Avg val Dice: 0.7671930193901062\n",
      "==================================================\n"
     ]
    },
    {
     "name": "stderr",
     "output_type": "stream",
     "text": [
      "100%|██████████| 81/81 [02:38<00:00,  1.96s/it, Epoch: 80, Avg. train loss: 0.4002, Avg. train Dice: 0.7714]\n"
     ]
    },
    {
     "name": "stdout",
     "output_type": "stream",
     "text": [
      "==================================================\n",
      "Epoch 81/100 completed. Starting validation...\n",
      "==================================================\n",
      "Avg val loss: 0.40164070508696814, Avg val Dice: 0.7836546897888184\n",
      "==================================================\n"
     ]
    },
    {
     "name": "stderr",
     "output_type": "stream",
     "text": [
      "100%|██████████| 81/81 [02:40<00:00,  1.98s/it, Epoch: 81, Avg. train loss: 0.4319, Avg. train Dice: 0.7575]\n"
     ]
    },
    {
     "name": "stdout",
     "output_type": "stream",
     "text": [
      "==================================================\n",
      "Epoch 82/100 completed. Starting validation...\n",
      "==================================================\n",
      "Avg val loss: 0.4278933270411058, Avg val Dice: 0.7678670883178711\n",
      "==================================================\n"
     ]
    },
    {
     "name": "stderr",
     "output_type": "stream",
     "text": [
      "100%|██████████| 81/81 [02:38<00:00,  1.95s/it, Epoch: 82, Avg. train loss: 0.4206, Avg. train Dice: 0.7620]\n"
     ]
    },
    {
     "name": "stdout",
     "output_type": "stream",
     "text": [
      "==================================================\n",
      "Epoch 83/100 completed. Starting validation...\n",
      "==================================================\n",
      "Avg val loss: 0.46023978834802454, Avg val Dice: 0.7839767336845398\n",
      "==================================================\n"
     ]
    },
    {
     "name": "stderr",
     "output_type": "stream",
     "text": [
      "100%|██████████| 81/81 [02:38<00:00,  1.95s/it, Epoch: 83, Avg. train loss: 0.4331, Avg. train Dice: 0.7586]\n"
     ]
    },
    {
     "name": "stdout",
     "output_type": "stream",
     "text": [
      "==================================================\n",
      "Epoch 84/100 completed. Starting validation...\n",
      "==================================================\n",
      "Avg val loss: 0.4271192902868444, Avg val Dice: 0.7517667412757874\n",
      "==================================================\n"
     ]
    },
    {
     "name": "stderr",
     "output_type": "stream",
     "text": [
      "100%|██████████| 81/81 [02:44<00:00,  2.03s/it, Epoch: 84, Avg. train loss: 0.4114, Avg. train Dice: 0.7650]\n"
     ]
    },
    {
     "name": "stdout",
     "output_type": "stream",
     "text": [
      "==================================================\n",
      "Epoch 85/100 completed. Starting validation...\n",
      "==================================================\n",
      "Avg val loss: 0.4210345176133243, Avg val Dice: 0.7866910099983215\n",
      "==================================================\n"
     ]
    },
    {
     "name": "stderr",
     "output_type": "stream",
     "text": [
      "100%|██████████| 81/81 [02:46<00:00,  2.05s/it, Epoch: 85, Avg. train loss: 0.4079, Avg. train Dice: 0.7703]\n"
     ]
    },
    {
     "name": "stdout",
     "output_type": "stream",
     "text": [
      "==================================================\n",
      "Epoch 86/100 completed. Starting validation...\n",
      "==================================================\n",
      "Avg val loss: 0.4087053022601388, Avg val Dice: 0.75709468126297\n",
      "==================================================\n"
     ]
    },
    {
     "name": "stderr",
     "output_type": "stream",
     "text": [
      "100%|██████████| 81/81 [02:46<00:00,  2.06s/it, Epoch: 86, Avg. train loss: 0.3987, Avg. train Dice: 0.7719]\n"
     ]
    },
    {
     "name": "stdout",
     "output_type": "stream",
     "text": [
      "==================================================\n",
      "Epoch 87/100 completed. Starting validation...\n",
      "==================================================\n",
      "Avg val loss: 0.41218955408443103, Avg val Dice: 0.7821590304374695\n",
      "==================================================\n"
     ]
    },
    {
     "name": "stderr",
     "output_type": "stream",
     "text": [
      "100%|██████████| 81/81 [02:48<00:00,  2.08s/it, Epoch: 87, Avg. train loss: 0.3988, Avg. train Dice: 0.7746]\n"
     ]
    },
    {
     "name": "stdout",
     "output_type": "stream",
     "text": [
      "==================================================\n",
      "Epoch 88/100 completed. Starting validation...\n",
      "==================================================\n",
      "Avg val loss: 0.4157397611574693, Avg val Dice: 0.7580358386039734\n",
      "==================================================\n"
     ]
    },
    {
     "name": "stderr",
     "output_type": "stream",
     "text": [
      "100%|██████████| 81/81 [02:47<00:00,  2.07s/it, Epoch: 88, Avg. train loss: 0.4079, Avg. train Dice: 0.7696]\n"
     ]
    },
    {
     "name": "stdout",
     "output_type": "stream",
     "text": [
      "==================================================\n",
      "Epoch 89/100 completed. Starting validation...\n",
      "==================================================\n",
      "Avg val loss: 0.4133821292357011, Avg val Dice: 0.7687088847160339\n",
      "==================================================\n"
     ]
    },
    {
     "name": "stderr",
     "output_type": "stream",
     "text": [
      "100%|██████████| 81/81 [02:45<00:00,  2.05s/it, Epoch: 89, Avg. train loss: 0.4186, Avg. train Dice: 0.7606]\n"
     ]
    },
    {
     "name": "stdout",
     "output_type": "stream",
     "text": [
      "==================================================\n",
      "Epoch 90/100 completed. Starting validation...\n",
      "==================================================\n",
      "Avg val loss: 0.41790237751874054, Avg val Dice: 0.782995879650116\n",
      "==================================================\n"
     ]
    },
    {
     "name": "stderr",
     "output_type": "stream",
     "text": [
      "100%|██████████| 81/81 [02:43<00:00,  2.02s/it, Epoch: 90, Avg. train loss: 0.3895, Avg. train Dice: 0.7739]\n"
     ]
    },
    {
     "name": "stdout",
     "output_type": "stream",
     "text": [
      "==================================================\n",
      "Epoch 91/100 completed. Starting validation...\n",
      "==================================================\n",
      "Avg val loss: 0.41046081347899005, Avg val Dice: 0.7488450407981873\n",
      "==================================================\n"
     ]
    },
    {
     "name": "stderr",
     "output_type": "stream",
     "text": [
      "100%|██████████| 81/81 [02:42<00:00,  2.00s/it, Epoch: 91, Avg. train loss: 0.4059, Avg. train Dice: 0.7718]\n"
     ]
    },
    {
     "name": "stdout",
     "output_type": "stream",
     "text": [
      "==================================================\n",
      "Epoch 92/100 completed. Starting validation...\n",
      "==================================================\n",
      "Avg val loss: 0.404079563238404, Avg val Dice: 0.7759618759155273\n",
      "==================================================\n"
     ]
    },
    {
     "name": "stderr",
     "output_type": "stream",
     "text": [
      "100%|██████████| 81/81 [02:42<00:00,  2.01s/it, Epoch: 92, Avg. train loss: 0.3943, Avg. train Dice: 0.7726]\n"
     ]
    },
    {
     "name": "stdout",
     "output_type": "stream",
     "text": [
      "==================================================\n",
      "Epoch 93/100 completed. Starting validation...\n",
      "==================================================\n",
      "Avg val loss: 0.41379314119165594, Avg val Dice: 0.7890507578849792\n",
      "==================================================\n"
     ]
    },
    {
     "name": "stderr",
     "output_type": "stream",
     "text": [
      "100%|██████████| 81/81 [02:42<00:00,  2.01s/it, Epoch: 93, Avg. train loss: 0.3909, Avg. train Dice: 0.7789]\n"
     ]
    },
    {
     "name": "stdout",
     "output_type": "stream",
     "text": [
      "==================================================\n",
      "Epoch 94/100 completed. Starting validation...\n",
      "==================================================\n",
      "Avg val loss: 0.4344361993399533, Avg val Dice: 0.7275506258010864\n",
      "==================================================\n"
     ]
    },
    {
     "name": "stderr",
     "output_type": "stream",
     "text": [
      "100%|██████████| 81/81 [02:42<00:00,  2.01s/it, Epoch: 94, Avg. train loss: 0.4071, Avg. train Dice: 0.7686]\n"
     ]
    },
    {
     "name": "stdout",
     "output_type": "stream",
     "text": [
      "==================================================\n",
      "Epoch 95/100 completed. Starting validation...\n",
      "==================================================\n",
      "Avg val loss: 0.3992962471463464, Avg val Dice: 0.7645720839500427\n",
      "==================================================\n"
     ]
    },
    {
     "name": "stderr",
     "output_type": "stream",
     "text": [
      "100%|██████████| 81/81 [02:42<00:00,  2.00s/it, Epoch: 95, Avg. train loss: 0.3820, Avg. train Dice: 0.7790]\n"
     ]
    },
    {
     "name": "stdout",
     "output_type": "stream",
     "text": [
      "==================================================\n",
      "Epoch 96/100 completed. Starting validation...\n",
      "==================================================\n",
      "Avg val loss: 0.43082256615161896, Avg val Dice: 0.7897552251815796\n",
      "==================================================\n"
     ]
    },
    {
     "name": "stderr",
     "output_type": "stream",
     "text": [
      "100%|██████████| 81/81 [02:41<00:00,  2.00s/it, Epoch: 96, Avg. train loss: 0.3949, Avg. train Dice: 0.7735]\n"
     ]
    },
    {
     "name": "stdout",
     "output_type": "stream",
     "text": [
      "==================================================\n",
      "Epoch 97/100 completed. Starting validation...\n",
      "==================================================\n",
      "Avg val loss: 0.41209869899533014, Avg val Dice: 0.7531394958496094\n",
      "==================================================\n"
     ]
    },
    {
     "name": "stderr",
     "output_type": "stream",
     "text": [
      "100%|██████████| 81/81 [02:42<00:00,  2.01s/it, Epoch: 97, Avg. train loss: 0.3878, Avg. train Dice: 0.7738]\n"
     ]
    },
    {
     "name": "stdout",
     "output_type": "stream",
     "text": [
      "==================================================\n",
      "Epoch 98/100 completed. Starting validation...\n",
      "==================================================\n",
      "Avg val loss: 0.4171529032967307, Avg val Dice: 0.7531039118766785\n",
      "==================================================\n"
     ]
    },
    {
     "name": "stderr",
     "output_type": "stream",
     "text": [
      "100%|██████████| 81/81 [02:43<00:00,  2.02s/it, Epoch: 98, Avg. train loss: 0.3879, Avg. train Dice: 0.7778]\n"
     ]
    },
    {
     "name": "stdout",
     "output_type": "stream",
     "text": [
      "==================================================\n",
      "Epoch 99/100 completed. Starting validation...\n",
      "==================================================\n",
      "Avg val loss: 0.40386179225011304, Avg val Dice: 0.7676610946655273\n",
      "==================================================\n"
     ]
    },
    {
     "name": "stderr",
     "output_type": "stream",
     "text": [
      "100%|██████████| 81/81 [02:44<00:00,  2.03s/it, Epoch: 99, Avg. train loss: 0.3869, Avg. train Dice: 0.7766]\n"
     ]
    },
    {
     "name": "stdout",
     "output_type": "stream",
     "text": [
      "==================================================\n",
      "Epoch 100/100 completed. Starting validation...\n",
      "==================================================\n",
      "Avg val loss: 0.4221672212535685, Avg val Dice: 0.773433268070221\n",
      "==================================================\n"
     ]
    }
   ],
   "source": [
    "train_losses = []\n",
    "train_dcs = []\n",
    "val_losses = []\n",
    "val_dcs = []\n",
    "\n",
    "torch.cuda.empty_cache()\n",
    "\n",
    "for epoch in range(params.epochs):\n",
    "    with tqdm(total=len(train_dataloader), position=0, leave=True) as progress_bar:\n",
    "        model.train()\n",
    "        total_loss = 0\n",
    "        total_dice = 0\n",
    "\n",
    "        for batch_idx, (image, mask) in enumerate(train_dataloader):\n",
    "            image = image.to(device)\n",
    "            mask = mask.to(device).long().squeeze(1)\n",
    "\n",
    "            # 1. Forward pass\n",
    "            y_pred = model(image)\n",
    "\n",
    "            # 2. Calculate loss\n",
    "            \n",
    "            loss_fn = loss_fn.to(device)\n",
    "            loss = loss_fn(y_pred, mask)\n",
    "    \n",
    "            # 3. Backward pass - clear gradient from the optimizer\n",
    "            optimizer.zero_grad()\n",
    "            loss.backward()\n",
    "    \n",
    "            # 4. Update weights\n",
    "            optimizer.step()\n",
    "    \n",
    "            # 5. Calculate metrics\n",
    "            total_loss += loss.item()\n",
    "            \n",
    "            preds = torch.argmax(y_pred, dim=1)\n",
    "            preds_one_hot = F.one_hot(preds, num_classes=params.num_classes).permute(0, 3, 1, 2).float()\n",
    "            mask_one_hot = F.one_hot(mask, num_classes=params.num_classes).permute(0, 3, 1, 2).float()\n",
    "            total_dice += dice(preds_one_hot, mask_one_hot)\n",
    "    \n",
    "    \n",
    "            # Update progress bar\n",
    "            progress_bar.set_postfix_str(f\"Epoch: {epoch}, Avg. train loss: {total_loss / (batch_idx + 1):.4f}, Avg. train Dice: {total_dice / (batch_idx + 1):.4f}\")\n",
    "            progress_bar.update(1)\n",
    "\n",
    "    # Average metrics\n",
    "    avg_loss = total_loss / len(train_dataloader)\n",
    "    avg_dice = total_dice / len(train_dataloader)\n",
    "\n",
    "    train_losses.append(avg_loss)\n",
    "    train_dcs.append(avg_dice.cpu().item())\n",
    "\n",
    "    print(\"=\" * 50)\n",
    "    print(f\"Epoch {epoch+1}/{params.epochs} completed. Starting validation...\")\n",
    "    print(\"=\" * 50)\n",
    "  # ------------------------------------------------------------------------------------------------------------------------------------------------\n",
    "  # Validation loop\n",
    "    model.eval()\n",
    "\n",
    "    total_val_loss = 0\n",
    "    total_val_dice = 0\n",
    "\n",
    "    with torch.no_grad():\n",
    "        for image, mask in val_dataloader:\n",
    "            image = image.to(device)\n",
    "            mask = mask.to(device).long().squeeze(1)\n",
    "\n",
    "            # 1. Forward pass\n",
    "            y_pred = model(image)\n",
    "\n",
    "            # 2. Calculate loss\n",
    "            loss = loss_fn(y_pred, mask)\n",
    "\n",
    "            # 3. Calculate metrics\n",
    "            total_val_loss += loss.item()\n",
    "\n",
    "            preds = torch.argmax(y_pred, dim=1)\n",
    "            preds_one_hot = F.one_hot(preds, num_classes=params.num_classes).permute(0, 3, 1, 2).float()\n",
    "            mask_one_hot = F.one_hot(mask, num_classes=params.num_classes).permute(0, 3, 1, 2).float()\n",
    "            total_val_dice += dice(preds_one_hot.detach(), mask_one_hot)\n",
    "\n",
    "    avg_val_loss = total_val_loss / len(val_dataloader)\n",
    "    avg_val_dice = total_val_dice / len(val_dataloader)\n",
    "\n",
    "    val_losses.append(avg_val_loss)\n",
    "    val_dcs.append(avg_val_dice.cpu().item())\n",
    "\n",
    "    print(f\"Avg val loss: {avg_val_loss}, Avg val Dice: {avg_val_dice}\", flush=True)\n",
    "    print(\"=\" * 50)\n",
    "\n",
    "torch.save(model.state_dict(), '/kaggle/working/unet_model.pth')\n",
    "\n",
    "metrics_df = pd.DataFrame({\n",
    "    \"epoch\": list(range(1, params.epochs + 1)),\n",
    "    \"train_loss\": train_losses,\n",
    "    \"val_loss\": val_losses,\n",
    "    \"train_dice\": train_dcs,\n",
    "    \"val_dice\": val_dcs,\n",
    "})\n",
    "metrics_df.to_csv(\"/kaggle/working/unet_metrics.csv\", index=False)"
   ]
  },
  {
   "cell_type": "code",
   "execution_count": 25,
   "id": "2c5e189e",
   "metadata": {
    "execution": {
     "iopub.execute_input": "2025-05-03T16:27:56.622145Z",
     "iopub.status.busy": "2025-05-03T16:27:56.621780Z",
     "iopub.status.idle": "2025-05-03T16:27:56.625598Z",
     "shell.execute_reply": "2025-05-03T16:27:56.624865Z"
    },
    "executionInfo": {
     "elapsed": 6,
     "status": "aborted",
     "timestamp": 1742909358049,
     "user": {
      "displayName": "Matej Kamenicky",
      "userId": "04927559039197615042"
     },
     "user_tz": -60
    },
    "id": "l4h36GwELFO6",
    "papermill": {
     "duration": 0.876096,
     "end_time": "2025-05-03T16:27:56.627049",
     "exception": false,
     "start_time": "2025-05-03T16:27:55.750953",
     "status": "completed"
    },
    "tags": []
   },
   "outputs": [],
   "source": [
    "epochs_range = list(range(1, params.epochs + 1))"
   ]
  },
  {
   "cell_type": "markdown",
   "id": "c6db4812",
   "metadata": {
    "id": "tg9yOnUfKy4J",
    "papermill": {
     "duration": 0.87643,
     "end_time": "2025-05-03T16:27:58.303834",
     "exception": false,
     "start_time": "2025-05-03T16:27:57.427404",
     "status": "completed"
    },
    "tags": []
   },
   "source": [
    "Plot loss"
   ]
  },
  {
   "cell_type": "code",
   "execution_count": 26,
   "id": "a5aed311",
   "metadata": {
    "execution": {
     "iopub.execute_input": "2025-05-03T16:27:59.929415Z",
     "iopub.status.busy": "2025-05-03T16:27:59.928973Z",
     "iopub.status.idle": "2025-05-03T16:28:00.167410Z",
     "shell.execute_reply": "2025-05-03T16:28:00.166531Z"
    },
    "id": "nebNGSa7Kyh8",
    "papermill": {
     "duration": 1.027606,
     "end_time": "2025-05-03T16:28:00.169057",
     "exception": false,
     "start_time": "2025-05-03T16:27:59.141451",
     "status": "completed"
    },
    "tags": []
   },
   "outputs": [
    {
     "data": {
      "image/png": "[encoded data removed]",
      "text/plain": [
       "<Figure size 800x400 with 1 Axes>"
      ]
     },
     "metadata": {},
     "output_type": "display_data"
    }
   ],
   "source": [
    "plt.figure(figsize=(8, 4))\n",
    "sns.lineplot(x=epochs_range, y=train_losses, label='Train Loss', palette=\"coolwarm\")\n",
    "sns.lineplot(x=epochs_range, y=val_losses, label='Validation Loss', palette=\"coolwarm\", linestyle=\"dashed\")\n",
    "plt.xlabel('Epochs')\n",
    "plt.ylabel('Loss')\n",
    "plt.title('Training & Validation Loss')\n",
    "plt.legend()\n",
    "plt.show()"
   ]
  },
  {
   "cell_type": "markdown",
   "id": "945e9a2d",
   "metadata": {
    "id": "vtSFdaj7K16p",
    "papermill": {
     "duration": 0.794485,
     "end_time": "2025-05-03T16:28:01.873537",
     "exception": false,
     "start_time": "2025-05-03T16:28:01.079052",
     "status": "completed"
    },
    "tags": []
   },
   "source": [
    "Plot dice score"
   ]
  },
  {
   "cell_type": "code",
   "execution_count": 27,
   "id": "d92b435d",
   "metadata": {
    "execution": {
     "iopub.execute_input": "2025-05-03T16:28:03.546396Z",
     "iopub.status.busy": "2025-05-03T16:28:03.546023Z",
     "iopub.status.idle": "2025-05-03T16:28:03.783344Z",
     "shell.execute_reply": "2025-05-03T16:28:03.782423Z"
    },
    "id": "935mC-p1K9td",
    "papermill": {
     "duration": 1.033007,
     "end_time": "2025-05-03T16:28:03.784740",
     "exception": false,
     "start_time": "2025-05-03T16:28:02.751733",
     "status": "completed"
    },
    "tags": []
   },
   "outputs": [
    {
     "data": {
      "image/png": "[encoded data removed]",
      "text/plain": [
       "<Figure size 800x400 with 1 Axes>"
      ]
     },
     "metadata": {},
     "output_type": "display_data"
    }
   ],
   "source": [
    "plt.figure(figsize=(8, 4))\n",
    "sns.lineplot(x=epochs_range, y=train_dcs, label='Train dice score', palette=\"coolwarm\")\n",
    "sns.lineplot(x=epochs_range, y=val_dcs, label='Validation dice score', palette=\"coolwarm\", linestyle=\"dashed\")\n",
    "plt.xlabel('Epochs')\n",
    "plt.ylabel('Dice score')\n",
    "plt.title('Training & Validation Dice score')\n",
    "plt.legend()\n",
    "plt.show()"
   ]
  },
  {
   "cell_type": "code",
   "execution_count": null,
   "id": "ece9f494",
   "metadata": {
    "papermill": {
     "duration": 0.878008,
     "end_time": "2025-05-03T16:28:05.449847",
     "exception": false,
     "start_time": "2025-05-03T16:28:04.571839",
     "status": "completed"
    },
    "tags": []
   },
   "outputs": [],
   "source": []
  }
 ],
 "metadata": {
  "accelerator": "GPU",
  "colab": {
   "authorship_tag": "ABX9TyMjpqTBDKNxP5EFM+vq9Wcy",
   "gpuType": "T4",
   "provenance": []
  },
  "kaggle": {
   "accelerator": "gpu",
   "dataSources": [
    {
     "datasetId": 966962,
     "sourceId": 1635643,
     "sourceType": "datasetVersion"
    }
   ],
   "dockerImageVersionId": 30918,
   "isGpuEnabled": true,
   "isInternetEnabled": true,
   "language": "python",
   "sourceType": "notebook"
  },
  "kernelspec": {
   "display_name": "Python 3",
   "language": "python",
   "name": "python3"
  },
  "language_info": {
   "codemirror_mode": {
    "name": "ipython",
    "version": 3
   },
   "file_extension": ".py",
   "mimetype": "text/x-python",
   "name": "python",
   "nbconvert_exporter": "python",
   "pygments_lexer": "ipython3",
   "version": "3.10.12"
  },
  "papermill": {
   "default_parameters": {},
   "duration": 19244.783207,
   "end_time": "2025-05-03T16:28:08.291170",
   "environment_variables": {},
   "exception": null,
   "input_path": "__notebook__.ipynb",
   "output_path": "__notebook__.ipynb",
   "parameters": {},
   "start_time": "2025-05-03T11:07:23.507963",
   "version": "2.6.0"
  }
 },
 "nbformat": 4,
 "nbformat_minor": 5
}
